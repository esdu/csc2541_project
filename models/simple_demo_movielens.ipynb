{
 "cells": [
  {
   "cell_type": "code",
   "execution_count": 1,
   "metadata": {
    "collapsed": true
   },
   "outputs": [],
   "source": [
    "%matplotlib inline\n",
    "from matplotlib import pyplot as plt\n",
    "import matplotlib; matplotlib.rcParams['figure.figsize'] = (8,3)"
   ]
  },
  {
   "cell_type": "code",
   "execution_count": 2,
   "metadata": {
    "collapsed": true
   },
   "outputs": [],
   "source": [
    "import numpy as np"
   ]
  },
  {
   "cell_type": "code",
   "execution_count": 3,
   "metadata": {
    "collapsed": true
   },
   "outputs": [],
   "source": [
    "# Reload all packages - make debugging easier\n",
    "%load_ext autoreload\n",
    "%autoreload 2"
   ]
  },
  {
   "cell_type": "markdown",
   "metadata": {},
   "source": [
    "---"
   ]
  },
  {
   "cell_type": "code",
   "execution_count": 4,
   "metadata": {
    "collapsed": true
   },
   "outputs": [],
   "source": [
    "from simple import SimpleMatrixFactorization"
   ]
  },
  {
   "cell_type": "markdown",
   "metadata": {},
   "source": [
    "---"
   ]
  },
  {
   "cell_type": "code",
   "execution_count": 5,
   "metadata": {
    "collapsed": true
   },
   "outputs": [],
   "source": [
    "import sys \n",
    "sys.path.append('..')\n",
    "\n",
    "from movieLensAnalyzer import MovieLensAnalyzer \n",
    "movieLensAnalyzer = MovieLensAnalyzer()\n",
    "R = movieLensAnalyzer.trainRatingMatrix # take some matrix... just check if it trains and if so how quickly"
   ]
  },
  {
   "cell_type": "code",
   "execution_count": 6,
   "metadata": {
    "collapsed": true
   },
   "outputs": [],
   "source": [
    "model = SimpleMatrixFactorization(ratings_matrix=R, hidden_dim=20, batch_size=200)"
   ]
  },
  {
   "cell_type": "code",
   "execution_count": 7,
   "metadata": {},
   "outputs": [
    {
     "name": "stdout",
     "output_type": "stream",
     "text": [
      "User 0\n",
      "[-0.  0. -0. -0. -0. -0.  1. -1. -0.  0.]\n",
      "[ 5.  3.  4.  3.  4.  1.  5.  3.  2.  5.]\n",
      "User 11\n",
      "[ 0.  0. -0.  0.  0. -0.  0. -1.  1. -0.]\n",
      "[ 5.  5.  5.  4.  5.  4.  4.  5.  4.  5.]\n",
      "User 20\n",
      "[ 0. -0.  1. -0. -0.  0.  1.  0.  0.  0.]\n",
      "[ 5.  2.  5.  5.  4.  4.  3.  4.  5.  5.]\n",
      "User 30\n",
      "[-0.  1.  0.  0.  0.  1. -0.  0. -0.  0.]\n",
      "[ 5.  2.  4.  4.  5.  4.  5.  4.  5.  3.]\n"
     ]
    },
    {
     "data": {
      "text/plain": [
       "[14.640326942298998,\n",
       " 20.778551456086788,\n",
       " 9.1172469879036377,\n",
       " 16.927110648242749]"
      ]
     },
     "execution_count": 7,
     "metadata": {},
     "output_type": "execute_result"
    }
   ],
   "source": [
    "def score():\n",
    "    # For now, just some mse of random users.\n",
    "    mses = []\n",
    "    for user_index in [0,11,20,30]:\n",
    "        print('User', user_index)\n",
    "        idx = np.where(R[user_index] > 0)\n",
    "        rhats = np.mean(model.sample_user_ratings(user_index), axis=0)[idx]\n",
    "        r = R[user_index][idx]\n",
    "        print(np.round(rhats[:10]))\n",
    "        print(r[:10])\n",
    "        mses.append(np.mean(np.square(rhats - r)))\n",
    "    return mses\n",
    "\n",
    "score()"
   ]
  },
  {
   "cell_type": "code",
   "execution_count": 8,
   "metadata": {
    "collapsed": true
   },
   "outputs": [],
   "source": [
    "mask = R>0"
   ]
  },
  {
   "cell_type": "code",
   "execution_count": 9,
   "metadata": {},
   "outputs": [
    {
     "name": "stdout",
     "output_type": "stream",
     "text": [
      "CPU times: user 23.7 s, sys: 2.99 s, total: 26.7 s\n",
      "Wall time: 17.8 s\n"
     ]
    },
    {
     "data": {
      "text/plain": [
       "[<matplotlib.lines.Line2D at 0x11898a438>]"
      ]
     },
     "execution_count": 9,
     "metadata": {},
     "output_type": "execute_result"
    },
    {
     "data": {
      "image/png": "[encoded data removed]",
      "text/plain": [
       "<matplotlib.figure.Figure at 0x109bcca90>"
      ]
     },
     "metadata": {},
     "output_type": "display_data"
    }
   ],
   "source": [
    "%time losses = model.train(mask=mask, n_iter=2000, verbose=True)\n",
    "plt.plot(losses)"
   ]
  },
  {
   "cell_type": "code",
   "execution_count": 10,
   "metadata": {},
   "outputs": [
    {
     "name": "stdout",
     "output_type": "stream",
     "text": [
      "User 0\n",
      "[ 5.  3.  3.  4.  4.  4.  4.  4.  4.  5.]\n",
      "[ 5.  3.  4.  3.  4.  1.  5.  3.  2.  5.]\n",
      "User 11\n",
      "[ 4.  4.  4.  4.  5.  5.  4.  4.  3.  4.]\n",
      "[ 5.  5.  5.  4.  5.  4.  4.  5.  4.  5.]\n",
      "User 20\n",
      "[ 4.  3.  4.  4.  4.  3.  4.  3.  4.  4.]\n",
      "[ 5.  2.  5.  5.  4.  4.  3.  4.  5.  5.]\n",
      "User 30\n",
      "[ 4.  4.  4.  4.  4.  3.  4.  4.  3.  4.]\n",
      "[ 5.  2.  4.  4.  5.  4.  5.  4.  5.  3.]\n"
     ]
    },
    {
     "data": {
      "text/plain": [
       "[0.75156200205830548,\n",
       " 0.88951193837212872,\n",
       " 0.95836387034772252,\n",
       " 0.79390935785570393]"
      ]
     },
     "execution_count": 10,
     "metadata": {},
     "output_type": "execute_result"
    }
   ],
   "source": [
    "score()"
   ]
  },
  {
   "cell_type": "code",
   "execution_count": null,
   "metadata": {
    "collapsed": true
   },
   "outputs": [],
   "source": []
  }
 ],
 "metadata": {
  "kernelspec": {
   "display_name": "Python 3",
   "language": "python",
   "name": "python3"
  },
  "language_info": {
   "codemirror_mode": {
    "name": "ipython",
    "version": 3
   },
   "file_extension": ".py",
   "mimetype": "text/x-python",
   "name": "python",
   "nbconvert_exporter": "python",
   "pygments_lexer": "ipython3",
   "version": "3.6.3"
  }
 },
 "nbformat": 4,
 "nbformat_minor": 2
}
