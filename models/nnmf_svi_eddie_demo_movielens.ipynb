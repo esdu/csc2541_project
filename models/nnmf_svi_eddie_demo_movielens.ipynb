{
 "cells": [
  {
   "cell_type": "code",
   "execution_count": 1,
   "metadata": {
    "collapsed": true
   },
   "outputs": [],
   "source": [
    "%matplotlib inline\n",
    "from matplotlib import pyplot as plt\n",
    "import matplotlib; matplotlib.rcParams['figure.figsize'] = (8,3)"
   ]
  },
  {
   "cell_type": "code",
   "execution_count": 2,
   "metadata": {
    "collapsed": true
   },
   "outputs": [],
   "source": [
    "import numpy as np"
   ]
  },
  {
   "cell_type": "code",
   "execution_count": 3,
   "metadata": {
    "collapsed": true
   },
   "outputs": [],
   "source": [
    "# Reload all packages - make debugging easier\n",
    "%load_ext autoreload\n",
    "%autoreload 2"
   ]
  },
  {
   "cell_type": "markdown",
   "metadata": {},
   "source": [
    "---"
   ]
  },
  {
   "cell_type": "code",
   "execution_count": 4,
   "metadata": {
    "collapsed": true
   },
   "outputs": [],
   "source": [
    "from nnmf_svi_eddie import NNMF"
   ]
  },
  {
   "cell_type": "markdown",
   "metadata": {},
   "source": [
    "---"
   ]
  },
  {
   "cell_type": "code",
   "execution_count": 5,
   "metadata": {
    "collapsed": true
   },
   "outputs": [],
   "source": [
    "import sys \n",
    "sys.path.append('..')\n",
    "\n",
    "from movieLensAnalyzer import MovieLensAnalyzer \n",
    "movieLensAnalyzer = MovieLensAnalyzer()\n",
    "R = movieLensAnalyzer.trainRatingMatrix # take some matrix... just check if it trains and if so how quickly"
   ]
  },
  {
   "cell_type": "code",
   "execution_count": 6,
   "metadata": {
    "collapsed": true
   },
   "outputs": [],
   "source": [
    "model = NNMF(ratings_matrix=R, D=50, Dp=50, HIDDEN_UNITS=100,\n",
    "                               batch_size=200, n_samples=10)"
   ]
  },
  {
   "cell_type": "code",
   "execution_count": 7,
   "metadata": {},
   "outputs": [
    {
     "name": "stdout",
     "output_type": "stream",
     "text": [
      "User 0\n",
      "[ 2.  2.  1.  2.  2.  2.  2.  2.  1.  1.]\n",
      "[ 5.  3.  4.  3.  4.  1.  5.  3.  2.  5.]\n",
      "User 11\n",
      "[ 1.  2.  0.  2.  2.  2.  1.  2.  1.  1.]\n",
      "[ 5.  5.  5.  4.  5.  4.  4.  5.  4.  5.]\n",
      "User 20\n",
      "[ 2.  1.  1.  1.  1.  1.  1.  1.  1.  2.]\n",
      "[ 5.  2.  5.  5.  4.  4.  3.  4.  5.  5.]\n",
      "User 30\n",
      "[ 2.  2.  1.  2.  2.  2.  2.  2.  1.  1.]\n",
      "[ 5.  2.  4.  4.  5.  4.  5.  4.  5.  3.]\n"
     ]
    },
    {
     "data": {
      "text/plain": [
       "[6.2663512435422097,\n",
       " 10.382849317959224,\n",
       " 4.1955976864962281,\n",
       " 5.9459757177964052]"
      ]
     },
     "execution_count": 7,
     "metadata": {},
     "output_type": "execute_result"
    }
   ],
   "source": [
    "def score():\n",
    "    # For now, just some mse of random users.\n",
    "    mses = []\n",
    "    for user_index in [0,11,20,30]:\n",
    "        print('User', user_index)\n",
    "        idx = np.where(R[user_index] > 0)\n",
    "        rhats = np.mean(model.sample_user_ratings(user_index), axis=0)[idx]\n",
    "        r = R[user_index][idx]\n",
    "        print(np.round(rhats[:10]))\n",
    "        print(r[:10])\n",
    "        mses.append(np.mean(np.square(rhats - r)))\n",
    "    return mses\n",
    "\n",
    "score()"
   ]
  },
  {
   "cell_type": "code",
   "execution_count": 8,
   "metadata": {
    "collapsed": true
   },
   "outputs": [],
   "source": [
    "mask = R>0"
   ]
  },
  {
   "cell_type": "code",
   "execution_count": 9,
   "metadata": {},
   "outputs": [
    {
     "name": "stdout",
     "output_type": "stream",
     "text": [
      "CPU times: user 2min 37s, sys: 24.5 s, total: 3min 1s\n",
      "Wall time: 1min 2s\n"
     ]
    },
    {
     "data": {
      "text/plain": [
       "[<matplotlib.lines.Line2D at 0x125000b38>]"
      ]
     },
     "execution_count": 9,
     "metadata": {},
     "output_type": "execute_result"
    },
    {
     "data": {
      "image/png": "[encoded data removed]",
      "text/plain": [
       "<matplotlib.figure.Figure at 0x11a5a0eb8>"
      ]
     },
     "metadata": {},
     "output_type": "display_data"
    }
   ],
   "source": [
    "%time losses = model.train(mask=mask, verbose=True)\n",
    "plt.plot(losses)"
   ]
  },
  {
   "cell_type": "code",
   "execution_count": 10,
   "metadata": {},
   "outputs": [
    {
     "name": "stdout",
     "output_type": "stream",
     "text": [
      "User 0\n",
      "[ 4.  3.  3.  4.  4.  4.  4.  4.  4.  4.]\n",
      "[ 5.  3.  4.  3.  4.  1.  5.  3.  2.  5.]\n",
      "User 11\n",
      "[ 4.  4.  4.  5.  4.  4.  4.  4.  4.  4.]\n",
      "[ 5.  5.  5.  4.  5.  4.  4.  5.  4.  5.]\n",
      "User 20\n",
      "[ 3.  3.  3.  4.  4.  3.  4.  3.  4.  4.]\n",
      "[ 5.  2.  5.  5.  4.  4.  3.  4.  5.  5.]\n",
      "User 30\n",
      "[ 4.  4.  4.  4.  4.  4.  4.  4.  4.  4.]\n",
      "[ 5.  2.  4.  4.  5.  4.  5.  4.  5.  3.]\n"
     ]
    },
    {
     "data": {
      "text/plain": [
       "[0.92267447333236563,\n",
       " 0.63872528246445559,\n",
       " 1.0331920377486974,\n",
       " 0.80110737861458858]"
      ]
     },
     "execution_count": 10,
     "metadata": {},
     "output_type": "execute_result"
    }
   ],
   "source": [
    "score()"
   ]
  },
  {
   "cell_type": "code",
   "execution_count": null,
   "metadata": {
    "collapsed": true
   },
   "outputs": [],
   "source": []
  }
 ],
 "metadata": {
  "kernelspec": {
   "display_name": "Python 3",
   "language": "python",
   "name": "python3"
  },
  "language_info": {
   "codemirror_mode": {
    "name": "ipython",
    "version": 3
   },
   "file_extension": ".py",
   "mimetype": "text/x-python",
   "name": "python",
   "nbconvert_exporter": "python",
   "pygments_lexer": "ipython3",
   "version": "3.6.3"
  }
 },
 "nbformat": 4,
 "nbformat_minor": 2
}
