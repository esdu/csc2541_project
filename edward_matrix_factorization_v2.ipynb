{
 "cells": [
  {
   "cell_type": "code",
   "execution_count": 1,
   "metadata": {
    "collapsed": true
   },
   "outputs": [],
   "source": [
    "#configure plotting\n",
    "%matplotlib inline\n",
    "from matplotlib import pyplot as plt\n",
    "from IPython.display import display"
   ]
  },
  {
   "cell_type": "code",
   "execution_count": 2,
   "metadata": {
    "collapsed": true
   },
   "outputs": [],
   "source": [
    "import numpy as np\n",
    "import tensorflow as tf"
   ]
  },
  {
   "cell_type": "code",
   "execution_count": 3,
   "metadata": {
    "collapsed": true
   },
   "outputs": [],
   "source": [
    "# Reload all packages - make debugging easier\n",
    "%load_ext autoreload\n",
    "%autoreload 2"
   ]
  },
  {
   "cell_type": "code",
   "execution_count": 4,
   "metadata": {
    "collapsed": true
   },
   "outputs": [],
   "source": [
    "np.random.seed(0)"
   ]
  },
  {
   "cell_type": "markdown",
   "metadata": {},
   "source": [
    "---"
   ]
  },
  {
   "cell_type": "markdown",
   "metadata": {},
   "source": [
    "# Simple Matrix Factorization"
   ]
  },
  {
   "cell_type": "code",
   "execution_count": 5,
   "metadata": {
    "collapsed": true
   },
   "outputs": [],
   "source": [
    "from movieLensAnalyzer import MovieLensAnalyzer \n",
    "movieLensAnalyzer = MovieLensAnalyzer()\n",
    "R_ = movieLensAnalyzer.trainRatingMatrix # take some matrix... just check if it trains and if so how quickly"
   ]
  },
  {
   "cell_type": "code",
   "execution_count": 6,
   "metadata": {
    "collapsed": true
   },
   "outputs": [],
   "source": [
    "import edward as ed\n",
    "\n",
    "N, M = R_.shape\n",
    "D = 30\n",
    "BATCH = 200 # Higher batch = more stable gradients but (maybe) slower training.\n",
    "\n",
    "# We use r_ph to feed in only the elements in R_ that idx_i and idx_j correspond to.\n",
    "r_ph  = tf.placeholder(tf.float32, name=\"batch_r\")\n",
    "idx_i = tf.placeholder(tf.int32, name=\"idx_i\")\n",
    "idx_j = tf.placeholder(tf.int32, name=\"idx_j\")\n",
    "\n",
    "# \"Priors\" p(Z)\n",
    "U = ed.models.Normal(loc=tf.zeros([N, D]), scale=tf.ones([N, D]))\n",
    "V = ed.models.Normal(loc=tf.zeros([M, D]), scale=tf.ones([M, D]))\n",
    "\n",
    "# P(X|Z)\n",
    "U_selected = tf.gather(U, idx_i)\n",
    "V_selected = tf.gather(V, idx_j)\n",
    "R = ed.models.Normal(loc=tf.reduce_sum(tf.multiply(U_selected, V_selected), axis=1), scale=tf.ones(BATCH))\n",
    "\n",
    "# VI\n",
    "qU = ed.models.Normal(loc=tf.Variable(tf.zeros([N, D])), scale=tf.Variable(tf.ones([N, D])))\n",
    "qV = ed.models.Normal(loc=tf.Variable(tf.zeros([M, D])), scale=tf.Variable(tf.ones([M, D])))\n",
    "\n",
    "# Testing\n",
    "U_samples = qU.sample(100)\n",
    "V_samples = qV.sample(100)"
   ]
  },
  {
   "cell_type": "code",
   "execution_count": 7,
   "metadata": {},
   "outputs": [],
   "source": [
    "def mse():\n",
    "    '''Calculate MSE using mean of a sample of r_hats, on only the ratings that are not 0'''\n",
    "    U_samples_, V_samples_ = ed.get_session().run([U_samples, V_samples])\n",
    "    R_samples_ = []\n",
    "    for i in range(U_samples_.shape[0]):\n",
    "        R_samples_.append(np.matmul(U_samples_[i], np.transpose(V_samples_[i])))\n",
    "    R_samples_ = np.array(R_samples_)\n",
    "    return np.mean(np.square(np.mean(R_samples_, axis=0) - R_)[np.where(R_)])"
   ]
  },
  {
   "cell_type": "code",
   "execution_count": 8,
   "metadata": {
    "collapsed": true
   },
   "outputs": [],
   "source": [
    "inference = ed.KLqp({U: qU, V: qV}, data={R: r_ph}) \n",
    "# TODO Try also passing in `n_samples` into inference.initialize. \n",
    "# This is how many samples of the latents to draw in estimating gradient.\n",
    "# By default it's 1. More should be better!\n",
    "inference.initialize(scale={R: N*M/BATCH}, n_iter=5000)\n",
    "ed.get_session().run(tf.global_variables_initializer())"
   ]
  },
  {
   "cell_type": "code",
   "execution_count": 9,
   "metadata": {
    "scrolled": false
   },
   "outputs": [
    {
     "name": "stdout",
     "output_type": "stream",
     "text": [
      "Notice the size of the variables we're training:\n"
     ]
    },
    {
     "data": {
      "text/plain": [
       "[<tf.Variable 'Variable:0' shape=(943, 30) dtype=float32_ref>,\n",
       " <tf.Variable 'Variable_1:0' shape=(943, 30) dtype=float32_ref>,\n",
       " <tf.Variable 'Variable_2:0' shape=(1682, 30) dtype=float32_ref>,\n",
       " <tf.Variable 'Variable_3:0' shape=(1682, 30) dtype=float32_ref>]"
      ]
     },
     "metadata": {},
     "output_type": "display_data"
    },
    {
     "name": "stdout",
     "output_type": "stream",
     "text": [
      "There are 50000 ratings in this matrix of size (943, 1682)\n",
      "Training will go over 1000000 random ratings.\n"
     ]
    }
   ],
   "source": [
    "# get an idea how big this problem is.\n",
    "print(\"Notice the size of the variables we're training:\")\n",
    "display(tf.trainable_variables())\n",
    "print(\"There are {} ratings in this matrix of size {}\".format(np.array(np.where(R_)).shape[1], R_.shape))\n",
    "print(\"Training will go over {} random ratings.\".format(inference.n_iter * BATCH))"
   ]
  },
  {
   "cell_type": "code",
   "execution_count": 10,
   "metadata": {},
   "outputs": [
    {
     "name": "stdout",
     "output_type": "stream",
     "text": [
      "Prior MSE: 14.2187184696\n"
     ]
    }
   ],
   "source": [
    "print(\"Prior MSE:\", mse())"
   ]
  },
  {
   "cell_type": "code",
   "execution_count": 11,
   "metadata": {
    "scrolled": false
   },
   "outputs": [
    {
     "name": "stdout",
     "output_type": "stream",
     "text": [
      "5000/5000 [100%] ██████████████████████████████ Elapsed: 38s | Loss: 2738463.000\n"
     ]
    },
    {
     "data": {
      "image/png": "[encoded data removed]",
      "text/plain": [
       "<matplotlib.figure.Figure at 0x11ac107b8>"
      ]
     },
     "metadata": {},
     "output_type": "display_data"
    }
   ],
   "source": [
    "seen_indices = np.array(np.where(R_))\n",
    "info_dicts = []\n",
    "for _ in range(inference.n_iter):\n",
    "    # Train on a batch of BATCH_SIZE random elements each iteration.\n",
    "    rand_idx = np.random.choice(seen_indices.shape[1], BATCH, replace=False)\n",
    "    idx_i_ = seen_indices[0, rand_idx]\n",
    "    idx_j_ = seen_indices[1, rand_idx]\n",
    "    feed_dict = {\n",
    "        idx_i: idx_i_,\n",
    "        idx_j: idx_j_,\n",
    "        r_ph: R_[idx_i_, idx_j_]\n",
    "    }\n",
    "    info_dict = inference.update(feed_dict=feed_dict)\n",
    "    info_dicts.append(info_dict)\n",
    "    inference.print_progress(info_dict)\n",
    "    \n",
    "_ = plt.plot([x['loss'] for x in info_dicts])"
   ]
  },
  {
   "cell_type": "code",
   "execution_count": 12,
   "metadata": {},
   "outputs": [
    {
     "name": "stdout",
     "output_type": "stream",
     "text": [
      "Posterior MSE: 0.691568105854\n"
     ]
    }
   ],
   "source": [
    "print(\"Posterior MSE:\", mse())"
   ]
  }
 ],
 "metadata": {
  "kernelspec": {
   "display_name": "Python 3",
   "language": "python",
   "name": "python3"
  },
  "language_info": {
   "codemirror_mode": {
    "name": "ipython",
    "version": 3
   },
   "file_extension": ".py",
   "mimetype": "text/x-python",
   "name": "python",
   "nbconvert_exporter": "python",
   "pygments_lexer": "ipython3",
   "version": "3.6.3"
  }
 },
 "nbformat": 4,
 "nbformat_minor": 2
}
