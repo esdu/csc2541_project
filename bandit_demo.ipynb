{
 "cells": [
  {
   "cell_type": "code",
   "execution_count": 1,
   "metadata": {
    "collapsed": true
   },
   "outputs": [],
   "source": [
    "#configure plotting\n",
    "%matplotlib inline\n",
    "from matplotlib import pyplot as plt\n",
    "from IPython.display import display"
   ]
  },
  {
   "cell_type": "code",
   "execution_count": 2,
   "metadata": {},
   "outputs": [],
   "source": [
    "import numpy as np\n",
    "import random\n",
    "from models.simple import SimpleMatrixFactorization\n",
    "from bandit_algorithms import BanditAlgorithms"
   ]
  },
  {
   "cell_type": "code",
   "execution_count": 3,
   "metadata": {},
   "outputs": [],
   "source": [
    "# Reload all packages - make debugging easier\n",
    "%load_ext autoreload\n",
    "%autoreload 2"
   ]
  },
  {
   "cell_type": "code",
   "execution_count": 4,
   "metadata": {
    "collapsed": true
   },
   "outputs": [],
   "source": [
    "np.random.seed(0)"
   ]
  },
  {
   "cell_type": "markdown",
   "metadata": {},
   "source": [
    "---"
   ]
  },
  {
   "cell_type": "markdown",
   "metadata": {},
   "source": [
    "# Bandit Demo using Edward Simple Matrix Factorization"
   ]
  },
  {
   "cell_type": "code",
   "execution_count": 5,
   "metadata": {},
   "outputs": [],
   "source": [
    "R = np.array([[1,3,3,4,5],\n",
    "             [1,2,4,3,5],\n",
    "             [5,3,2,5,1]])\n",
    "\n",
    "mask_trin = np.array([[1,1,1,1,1],\n",
    "                      [1,0,0,0,0],\n",
    "                      [1,1,1,1,1]])"
   ]
  },
  {
   "cell_type": "code",
   "execution_count": 6,
   "metadata": {
    "collapsed": true
   },
   "outputs": [],
   "source": [
    "model = SimpleMatrixFactorization(ratings_matrix=R, mask=mask_trin, hidden_dim=2, batch_size=5)"
   ]
  },
  {
   "cell_type": "code",
   "execution_count": 7,
   "metadata": {
    "collapsed": true
   },
   "outputs": [],
   "source": [
    "n_users, n_items = R.shape\n",
    "epsilon = 0.75\n",
    "gamma = 0.9"
   ]
  },
  {
   "cell_type": "code",
   "execution_count": 8,
   "metadata": {
    "scrolled": false
   },
   "outputs": [
    {
     "name": "stdout",
     "output_type": "stream",
     "text": [
      "user: 0 regret: 0.0\n",
      "user: 1 regret: 0.47444\n",
      "user: 2 regret: 0.47444\n"
     ]
    }
   ],
   "source": [
    "regret = 0\n",
    "for user in range(n_users):\n",
    "    bandit_algos = BanditAlgorithms(user, R, mask_trin, gamma, model, retrain=False)\n",
    "    # egreedy is random, so we run it a few times\n",
    "    mean_egreedy_score = np.mean([bandit_algos.get_score(epsilon,egreedy=True,ucb=False,thompson=False) for _ in range(100)])\n",
    "    regret += bandit_algos.get_best_score() - mean_egreedy_score\n",
    "    \n",
    "    print('user:',user,'regret:',regret)"
   ]
  },
  {
   "cell_type": "code",
   "execution_count": 9,
   "metadata": {},
   "outputs": [
    {
     "name": "stdout",
     "output_type": "stream",
     "text": [
      "user: 0 regret: 0\n",
      "user: 1 regret: 0.261\n",
      "user: 2 regret: 0.261\n"
     ]
    }
   ],
   "source": [
    "regret = 0\n",
    "for user in range(n_users):\n",
    "\n",
    "    bandit_algos = BanditAlgorithms(user, R, mask_trin, gamma, model, retrain=False)\n",
    "\n",
    "    ucb_score = bandit_algos.get_score(epsilon=0,egreedy=False,ucb=True,thompson=False)\n",
    "    regret += bandit_algos.get_best_score() - ucb_score\n",
    "    \n",
    "    print('user:',user,'regret:',regret)"
   ]
  },
  {
   "cell_type": "code",
   "execution_count": 10,
   "metadata": {},
   "outputs": [
    {
     "name": "stdout",
     "output_type": "stream",
     "text": [
      "user: 0 regret: 0\n",
      "user: 1 regret: 0.081\n",
      "user: 2 regret: 0.081\n"
     ]
    }
   ],
   "source": [
    "regret = 0\n",
    "for user in range(n_users):\n",
    "\n",
    "    bandit_algos = BanditAlgorithms(user, R, mask_trin, gamma, model, retrain=False)\n",
    "    \n",
    "    thompson_score = bandit_algos.get_score(epsilon=0,egreedy=False,ucb=False,thompson=True)\n",
    "    regret += bandit_algos.get_best_score() - thompson_score\n",
    "    \n",
    "    print('user:',user,'regret:',regret)"
   ]
  },
  {
   "cell_type": "code",
   "execution_count": null,
   "metadata": {
    "collapsed": true
   },
   "outputs": [],
   "source": []
  }
 ],
 "metadata": {
  "kernelspec": {
   "display_name": "Python 3",
   "language": "python",
   "name": "python3"
  },
  "language_info": {
   "codemirror_mode": {
    "name": "ipython",
    "version": 3
   },
   "file_extension": ".py",
   "mimetype": "text/x-python",
   "name": "python",
   "nbconvert_exporter": "python",
   "pygments_lexer": "ipython3",
   "version": "3.6.3"
  }
 },
 "nbformat": 4,
 "nbformat_minor": 2
}
