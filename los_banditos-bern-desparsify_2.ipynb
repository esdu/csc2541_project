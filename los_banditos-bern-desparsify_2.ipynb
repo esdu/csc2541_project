{
 "cells": [
  {
   "cell_type": "markdown",
   "metadata": {},
   "source": [
    "<img width=\"200\" style=\"display:inline\" src=\"https://yt3.ggpht.com/-gdE0kcO30lI/AAAAAAAAAAI/AAAAAAAAAAA/km_-04EMwJI/s900-c-k-no-mo-rj-c0xffffff/photo.jpg\"></img>\n",
    "<img style=\"display:inline\" src=\"https://blogs.mathworks.com/images/loren/2016/multiarmedbandit.jpg\"></img>"
   ]
  },
  {
   "cell_type": "code",
   "execution_count": 1,
   "metadata": {
    "collapsed": true
   },
   "outputs": [],
   "source": [
    "%matplotlib inline\n",
    "from matplotlib import pyplot as plt\n",
    "import matplotlib; matplotlib.rcParams['figure.figsize'] = (15,3)\n",
    "from IPython.display import display"
   ]
  },
  {
   "cell_type": "code",
   "execution_count": 2,
   "metadata": {
    "collapsed": true
   },
   "outputs": [],
   "source": [
    "import numpy as np\n",
    "import os"
   ]
  },
  {
   "cell_type": "code",
   "execution_count": 3,
   "metadata": {},
   "outputs": [],
   "source": [
    "# Reload all packages - make debugging easier\n",
    "%load_ext autoreload\n",
    "%autoreload 2"
   ]
  },
  {
   "cell_type": "markdown",
   "metadata": {},
   "source": [
    "---"
   ]
  },
  {
   "cell_type": "code",
   "execution_count": 4,
   "metadata": {
    "collapsed": true
   },
   "outputs": [],
   "source": [
    "from exp.utils import load_R, desparsify_2, prepare_test_users, make_binary"
   ]
  },
  {
   "cell_type": "code",
   "execution_count": 5,
   "metadata": {},
   "outputs": [
    {
     "name": "stdout",
     "output_type": "stream",
     "text": [
      "R contains 100000 ratings\n",
      "Before desparsify: % of items:  0.0630466936422\n",
      "After desparsify: % of items:  0.373593572446\n",
      "Size:  (354, 353)\n"
     ]
    }
   ],
   "source": [
    "R = load_R()\n",
    "\n",
    "# One reason our model doesn't seem to work well may be due to the matrix being too sparse.\n",
    "R = desparsify_2(R)\n",
    "\n",
    "# Binary!\n",
    "R = make_binary(R)\n",
    "\n",
    "# The point of this is to check that if we can fine-tune a model and still obtain meaningful uncertainty **updates** per user.\n",
    "# First, we pick a significant amount of users to check.\n",
    "dense_users, spars_users, train_mask, test_masks = \\\n",
    "    prepare_test_users(R, NUM_USERS_DENSE = 20, NUM_USERS_SPARS = 20, PERC_DROP = 0.3)"
   ]
  },
  {
   "cell_type": "code",
   "execution_count": 6,
   "metadata": {},
   "outputs": [
    {
     "name": "stdout",
     "output_type": "stream",
     "text": [
      "33199\n",
      "1421\n"
     ]
    }
   ],
   "source": [
    "# sanity check\n",
    "print(np.sum(train_mask))\n",
    "print(np.sum([np.sum(m) for _, m in test_masks.items()]))"
   ]
  },
  {
   "cell_type": "markdown",
   "metadata": {},
   "source": [
    "---"
   ]
  },
  {
   "cell_type": "markdown",
   "metadata": {},
   "source": [
    "Choose our model."
   ]
  },
  {
   "cell_type": "code",
   "execution_count": 9,
   "metadata": {},
   "outputs": [],
   "source": [
    "from pmf import PMFBern\n",
    "model = PMFBern(ratingMatrix=R)"
   ]
  },
  {
   "cell_type": "markdown",
   "metadata": {},
   "source": [
    "Some helper functions:"
   ]
  },
  {
   "cell_type": "code",
   "execution_count": 10,
   "metadata": {
    "collapsed": true
   },
   "outputs": [],
   "source": [
    "def plot_R(rhats, r=None, title=''):\n",
    "    _, n_items = rhats.shape\n",
    "    f, axes = plt.subplots(1, n_items, sharex=True, sharey=True)\n",
    "    i = 0\n",
    "    for j in range(n_items):\n",
    "        if r is not None:\n",
    "            axes[j].axvline(x=r[j], color='r', alpha=0.4)\n",
    "        axes[j].hist(rhats[:,j], histtype='stepfilled', normed=True, bins=100)\n",
    "    plt.xlim([0,6])\n",
    "    f.suptitle(title)\n",
    "    plt.show()\n",
    "    \n",
    "# Empirical Entropy of Ratings\n",
    "from empirical_entropy import empirical_entropy\n",
    "def get_entropy_data(model, user_index, intended_mask, num_samples=500):\n",
    "    samples = model.sample_for_user(user_index, num_samples)\n",
    "    _, per_item_entropy = empirical_entropy(samples)\n",
    "    mean_all_entropy = np.mean(per_item_entropy[np.where(R[user_index,:] > 0)]) # all items we could see\n",
    "    mean_intended_entropy = np.mean(per_item_entropy[np.where(intended_mask)]) # just elements we meant to test on\n",
    "    return mean_all_entropy, mean_intended_entropy\n",
    "\n",
    "# Latent Variable Entropy\n",
    "def joint_entropy(vars):\n",
    "    marginal_entropy = 0.5*np.log(2*np.pi*np.e*vars)\n",
    "    joint_entropy = np.sum(vars, axis=1)\n",
    "    return joint_entropy\n",
    "    \n",
    "# Fetch user latent variables and return their entropy for PMF\n",
    "def get_user_latent_entropy_PMF(model, user):\n",
    "    import tensorflow as tf\n",
    "\n",
    "    sess = model.sess\n",
    "    graph_vars = tf.get_collection(tf.GraphKeys.TRAINABLE_VARIABLES)\n",
    "    U_var  = graph_vars[1]\n",
    "    Up_var = graph_vars[3]\n",
    "\n",
    "    U_entropy = joint_entropy(sess.run(tf.nn.softplus(U_var)))\n",
    "    Up_entropy = joint_entropy(sess.run(tf.nn.softplus(Up_var)))\n",
    "    \n",
    "    return U_entropy[user], Up_entropy[user]"
   ]
  },
  {
   "cell_type": "code",
   "execution_count": null,
   "metadata": {
    "collapsed": true
   },
   "outputs": [],
   "source": []
  },
  {
   "cell_type": "code",
   "execution_count": null,
   "metadata": {
    "collapsed": true
   },
   "outputs": [],
   "source": []
  },
  {
   "cell_type": "code",
   "execution_count": null,
   "metadata": {
    "collapsed": true
   },
   "outputs": [],
   "source": []
  },
  {
   "cell_type": "code",
   "execution_count": null,
   "metadata": {
    "collapsed": true
   },
   "outputs": [],
   "source": []
  },
  {
   "cell_type": "code",
   "execution_count": 70,
   "metadata": {},
   "outputs": [],
   "source": [
    "from pmf import PMF\n",
    "model = PMF(ratingMatrix=R)"
   ]
  },
  {
   "cell_type": "code",
   "execution_count": 71,
   "metadata": {
    "collapsed": true
   },
   "outputs": [],
   "source": [
    "N_STEPS_INITIAL_TRAIN = 3000\n",
    "N_STEPS_FINETUNE = 500"
   ]
  },
  {
   "cell_type": "code",
   "execution_count": 72,
   "metadata": {
    "scrolled": false
   },
   "outputs": [
    {
     "name": "stdout",
     "output_type": "stream",
     "text": [
      "CPU times: user 13.6 s, sys: 5 s, total: 18.6 s\n",
      "Wall time: 9.23 s\n"
     ]
    },
    {
     "data": {
      "text/plain": [
       "'test_checkpoing_pmf1500.ckpt'"
      ]
     },
     "execution_count": 72,
     "metadata": {},
     "output_type": "execute_result"
    }
   ],
   "source": [
    "CHECKPOING_FILENAME = 'test_checkpoing_pmf1500.ckpt'\n",
    "\n",
    "%time loss = model.train(train_mask, n_iter=N_STEPS_INITIAL_TRAIN)\n",
    "model.save(CHECKPOING_FILENAME)"
   ]
  },
  {
   "cell_type": "markdown",
   "metadata": {},
   "source": [
    "---"
   ]
  },
  {
   "cell_type": "code",
   "execution_count": 112,
   "metadata": {},
   "outputs": [],
   "source": [
    "# def plot_R_binary(rhats, r=None, title='', user_test_mask=None):\n",
    "#     _, n_items = rhats.shape\n",
    "#     f, axes = plt.subplots(1, n_items, sharex=True, sharey=True)\n",
    "#     i = 0\n",
    "#     for j in range(n_items):\n",
    "#         if r is not None:\n",
    "#             axes[j].axvline(x=r[j], color='r', alpha=0.4)\n",
    "#             if r[j] == 0:\n",
    "#                 axes[j].set_facecolor('#aaaaaa')\n",
    "#             else:\n",
    "#                 if user_test_mask is not None and user_test_mask[j]:\n",
    "#                     right_color = '#88cc88'\n",
    "#                     wrong_color = '#cc88cc'\n",
    "#                 else:\n",
    "#                     right_color = '#ccefcc'\n",
    "#                     wrong_color = '#efcccc'\n",
    "                    \n",
    "#                 mean = np.mean(rhats[:,j])\n",
    "#                 if np.abs(mean - r[j]) > 0.499:\n",
    "#                     axes[j].set_facecolor(wrong_color)\n",
    "#                 else:\n",
    "#                     axes[j].set_facecolor(right_color)\n",
    "#                 axes[j].axvline(x=mean, color='b', alpha=0.4)\n",
    "# #             if r[j] == 1:\n",
    "# #                 axes[j].set_facecolor('#efcccc')\n",
    "# #             if r[j] == 2:\n",
    "# #                 axes[j].set_facecolor('#ccefcc')\n",
    "#         axes[j].hist(rhats[:,j], histtype='stepfilled', normed=True, bins=100)\n",
    "#     plt.xlim([0.8,2.2])\n",
    "#     plt.ylim([0,4])\n",
    "#     f.suptitle(title)\n",
    "#     plt.show()\n",
    "    "
   ]
  },
  {
   "cell_type": "code",
   "execution_count": 113,
   "metadata": {
    "scrolled": false
   },
   "outputs": [],
   "source": [
    "# uid = dense_users[0][1]\n",
    "# print(\"User {}\".format(uid))\n",
    "\n",
    "# samples = model.sample_for_user(uid, 1000)\n",
    "\n",
    "# ii = 0\n",
    "# bch = 10\n",
    "# while ii < 200: #R.shape[1]:\n",
    "#     plot_R_binary(samples[:, ii:(ii+bch)], R[uid, ii:(ii+bch)], title=\"{} to {}\".format(ii, ii+bch-1), \n",
    "#                   user_test_mask=test_masks[uid][ii:(ii+bch)])\n",
    "#     ii += bch"
   ]
  },
  {
   "cell_type": "markdown",
   "metadata": {},
   "source": [
    "---"
   ]
  },
  {
   "cell_type": "code",
   "execution_count": 30,
   "metadata": {
    "collapsed": true,
    "scrolled": false
   },
   "outputs": [],
   "source": [
    "from banditChoice import BanditChoice\n",
    "bandit = BanditChoice()\n",
    "\n",
    "def bandit_algo_random(samples, mask):\n",
    "    _avail_idx = np.where(mask)[0]\n",
    "    item = bandit.get_egreedy(samples[:,_avail_idx], _avail_idx, epsilon=1.0)\n",
    "    return item\n",
    "\n",
    "def bandit_algo_exploit(samples, mask):\n",
    "    _avail_idx = np.where(mask)[0]\n",
    "    item = bandit.get_egreedy(samples[:,_avail_idx], _avail_idx, epsilon=0.0)\n",
    "    return item\n",
    "\n",
    "def bandit_algo_egreedy(samples, mask):\n",
    "    _avail_idx = np.where(mask)[0]\n",
    "    item = bandit.get_egreedy(samples[:,_avail_idx], _avail_idx, epsilon=0.1)\n",
    "    return item\n",
    "\n",
    "def bandit_algo_ucb(samples, mask):\n",
    "    _avail_idx = np.where(mask)[0]\n",
    "    item = bandit.get_ucb(samples[:,_avail_idx], _avail_idx)\n",
    "    return item\n",
    "\n",
    "def test(users, bandit_algo, train=False, verbose=False):\n",
    "    regret_per_user = {}\n",
    "    for _, user in users:\n",
    "        if verbose: print(\"---------------------- USER {} ----------------------\".format(user))\n",
    "\n",
    "        regret = []\n",
    "\n",
    "        mask_ = np.copy(train_mask)\n",
    "        test_mask_ = np.copy(test_masks[user])\n",
    "        n_items = np.sum(test_mask_)\n",
    "\n",
    "        cnt = 0\n",
    "\n",
    "        for i in range(n_items):\n",
    "            cnt += 1\n",
    "\n",
    "            # Bandit\n",
    "            samples = model.sample_for_user(user, 100)\n",
    "            item = bandit_algo(samples, test_mask_)\n",
    "\n",
    "            # Regret\n",
    "            item_rating = R[user, item]\n",
    "            best_item_rating = np.max(R[user, :] * test_mask_)\n",
    "            regret.append(best_item_rating - item_rating)\n",
    "\n",
    "            # Retrain\n",
    "            mask_[user,item] = 1 # Showed this item; we can now train on it.\n",
    "            test_mask_[item] = 0 # Can't show this item anymore.\n",
    "            if train:\n",
    "                model.load(CHECKPOING_FILENAME)\n",
    "                model.train(mask_, n_iter=N_STEPS_FINETUNE)\n",
    "\n",
    "        regret_per_user[user] = regret\n",
    "    return regret_per_user"
   ]
  },
  {
   "cell_type": "markdown",
   "metadata": {},
   "source": [
    "Evaluation helpers:"
   ]
  },
  {
   "cell_type": "code",
   "execution_count": 31,
   "metadata": {
    "collapsed": true,
    "scrolled": true
   },
   "outputs": [],
   "source": [
    "def plot_inst_regret(regret_per_user):\n",
    "    for u_id, regret in regret_per_user.items():\n",
    "        plt.plot(regret)\n",
    "        plt.title(\"User {} regret over time\".format(u_id))\n",
    "    plt.show()\n",
    "    \n",
    "def plot_cum_regret(regret_per_user):\n",
    "    for u_id, regret in regret_per_user.items():\n",
    "        plt.plot(np.cumsum(regret))\n",
    "        plt.title(\"User {} cumulative regret over time\".format(u_id))\n",
    "    plt.show()\n",
    "        \n",
    "def get_regret_stats(regret_per_user):\n",
    "    if len(regret_per_user.items()) == 0:\n",
    "        return float('nan'), float('nan')\n",
    "    total_regret = sum([sum(regret) for _, regret in regret_per_user.items()])\n",
    "    avg_regret = total_regret / len(regret_per_user.items())\n",
    "    return total_regret, avg_regret\n",
    "\n",
    "def print_regret_stats(regret_per_user):\n",
    "    total_regret, avg_regret = get_regret_stats(regret_per_user)\n",
    "    print(\"Total regret: {}\".format(total_regret))\n",
    "    print(\"Avg: {}\".format(avg_regret))"
   ]
  },
  {
   "cell_type": "code",
   "execution_count": 32,
   "metadata": {
    "scrolled": false
   },
   "outputs": [
    {
     "name": "stdout",
     "output_type": "stream",
     "text": [
      "CPU times: user 5min 35s, sys: 12.2 s, total: 5min 47s\n",
      "Wall time: 1min 47s\n",
      "CPU times: user 5min 35s, sys: 11.6 s, total: 5min 46s\n",
      "Wall time: 1min 38s\n",
      "CPU times: user 5min 35s, sys: 11.6 s, total: 5min 46s\n",
      "Wall time: 1min 38s\n",
      "CPU times: user 1min 31s, sys: 3.18 s, total: 1min 35s\n",
      "Wall time: 26.8 s\n",
      "CPU times: user 1min 31s, sys: 3.19 s, total: 1min 34s\n",
      "Wall time: 26.9 s\n",
      "CPU times: user 1min 32s, sys: 3.17 s, total: 1min 35s\n",
      "Wall time: 26.8 s\n"
     ]
    }
   ],
   "source": [
    "%time dense20egreedy = test(dense_users[:20], bandit_algo_egreedy)\n",
    "%time dense20random  = test(dense_users[:20], bandit_algo_random)\n",
    "%time dense20exploit = test(dense_users[:20], bandit_algo_exploit)\n",
    "%time spars20egreedy = test(spars_users[:20], bandit_algo_egreedy)\n",
    "%time spars20random  = test(spars_users[:20], bandit_algo_random)\n",
    "%time spars20exploit = test(spars_users[:20], bandit_algo_exploit)"
   ]
  },
  {
   "cell_type": "code",
   "execution_count": 33,
   "metadata": {},
   "outputs": [
    {
     "name": "stdout",
     "output_type": "stream",
     "text": [
      "Total regret: 114.0\n",
      "Avg: 5.7\n",
      "Total regret: 125.0\n",
      "Avg: 6.25\n",
      "Total regret: 116.0\n",
      "Avg: 5.8\n",
      "Total regret: 57.0\n",
      "Avg: 2.85\n",
      "Total regret: 63.0\n",
      "Avg: 3.15\n",
      "Total regret: 56.0\n",
      "Avg: 2.8\n"
     ]
    }
   ],
   "source": [
    "print_regret_stats(dense20egreedy)\n",
    "print_regret_stats(dense20random)\n",
    "print_regret_stats(dense20exploit)\n",
    "print_regret_stats(spars20egreedy)\n",
    "print_regret_stats(spars20random)\n",
    "print_regret_stats(spars20exploit)"
   ]
  },
  {
   "cell_type": "markdown",
   "metadata": {},
   "source": [
    "The results are slightly random. It would be better to take more samples."
   ]
  },
  {
   "cell_type": "code",
   "execution_count": 58,
   "metadata": {},
   "outputs": [
    {
     "ename": "KeyboardInterrupt",
     "evalue": "",
     "output_type": "error",
     "traceback": [
      "\u001b[0;31m---------------------------------------------------------------------------\u001b[0m",
      "\u001b[0;31mKeyboardInterrupt\u001b[0m                         Traceback (most recent call last)",
      "\u001b[0;32m<ipython-input-58-cf6bb6e43151>\u001b[0m in \u001b[0;36m<module>\u001b[0;34m()\u001b[0m\n\u001b[1;32m      3\u001b[0m \u001b[0mexploit\u001b[0m \u001b[0;34m=\u001b[0m \u001b[0;34m[\u001b[0m\u001b[0;34m]\u001b[0m\u001b[0;34m\u001b[0m\u001b[0m\n\u001b[1;32m      4\u001b[0m \u001b[0;32mfor\u001b[0m \u001b[0m_\u001b[0m \u001b[0;32min\u001b[0m \u001b[0mrange\u001b[0m\u001b[0;34m(\u001b[0m\u001b[0mN_SAMPLES\u001b[0m\u001b[0;34m)\u001b[0m\u001b[0;34m:\u001b[0m\u001b[0;34m\u001b[0m\u001b[0m\n\u001b[0;32m----> 5\u001b[0;31m     \u001b[0mregret_per_user\u001b[0m \u001b[0;34m=\u001b[0m \u001b[0mtest\u001b[0m\u001b[0;34m(\u001b[0m\u001b[0mspars_users\u001b[0m\u001b[0;34m[\u001b[0m\u001b[0;34m:\u001b[0m\u001b[0;36m20\u001b[0m\u001b[0;34m]\u001b[0m\u001b[0;34m,\u001b[0m \u001b[0mbandit_algo_exploit\u001b[0m\u001b[0;34m)\u001b[0m\u001b[0;34m\u001b[0m\u001b[0m\n\u001b[0m\u001b[1;32m      6\u001b[0m     \u001b[0mtotal_regret\u001b[0m\u001b[0;34m,\u001b[0m \u001b[0mavg_regret\u001b[0m \u001b[0;34m=\u001b[0m \u001b[0mget_regret_stats\u001b[0m\u001b[0;34m(\u001b[0m\u001b[0mregret_per_user\u001b[0m\u001b[0;34m)\u001b[0m\u001b[0;34m\u001b[0m\u001b[0m\n\u001b[1;32m      7\u001b[0m     \u001b[0mexploit\u001b[0m\u001b[0;34m.\u001b[0m\u001b[0mappend\u001b[0m\u001b[0;34m(\u001b[0m\u001b[0mavg_regret\u001b[0m\u001b[0;34m)\u001b[0m\u001b[0;34m\u001b[0m\u001b[0m\n",
      "\u001b[0;32m<ipython-input-24-3f0633000a98>\u001b[0m in \u001b[0;36mtest\u001b[0;34m(users, bandit_algo, train, verbose)\u001b[0m\n\u001b[1;32m     39\u001b[0m \u001b[0;34m\u001b[0m\u001b[0m\n\u001b[1;32m     40\u001b[0m             \u001b[0;31m# Bandit\u001b[0m\u001b[0;34m\u001b[0m\u001b[0;34m\u001b[0m\u001b[0m\n\u001b[0;32m---> 41\u001b[0;31m             \u001b[0msamples\u001b[0m \u001b[0;34m=\u001b[0m \u001b[0mmodel\u001b[0m\u001b[0;34m.\u001b[0m\u001b[0msample_for_user\u001b[0m\u001b[0;34m(\u001b[0m\u001b[0muser\u001b[0m\u001b[0;34m,\u001b[0m \u001b[0;36m100\u001b[0m\u001b[0;34m)\u001b[0m\u001b[0;34m\u001b[0m\u001b[0m\n\u001b[0m\u001b[1;32m     42\u001b[0m             \u001b[0mitem\u001b[0m \u001b[0;34m=\u001b[0m \u001b[0mbandit_algo\u001b[0m\u001b[0;34m(\u001b[0m\u001b[0msamples\u001b[0m\u001b[0;34m,\u001b[0m \u001b[0mtest_mask_\u001b[0m\u001b[0;34m)\u001b[0m\u001b[0;34m\u001b[0m\u001b[0m\n\u001b[1;32m     43\u001b[0m \u001b[0;34m\u001b[0m\u001b[0m\n",
      "\u001b[0;32m/Users/eddiedu/csc2541_project/pmf.py\u001b[0m in \u001b[0;36msample_for_user\u001b[0;34m(self, user_index, num_samples)\u001b[0m\n\u001b[1;32m     60\u001b[0m         \u001b[0;31m# return (k, m) matrix of k samples for user i\u001b[0m\u001b[0;34m\u001b[0m\u001b[0;34m\u001b[0m\u001b[0m\n\u001b[1;32m     61\u001b[0m         \u001b[0;32mwith\u001b[0m \u001b[0mself\u001b[0m\u001b[0;34m.\u001b[0m\u001b[0msess\u001b[0m\u001b[0;34m.\u001b[0m\u001b[0mas_default\u001b[0m\u001b[0;34m(\u001b[0m\u001b[0;34m)\u001b[0m\u001b[0;34m:\u001b[0m\u001b[0;34m\u001b[0m\u001b[0m\n\u001b[0;32m---> 62\u001b[0;31m             \u001b[0;32mreturn\u001b[0m \u001b[0mself\u001b[0m\u001b[0;34m.\u001b[0m\u001b[0mmodel\u001b[0m\u001b[0;34m.\u001b[0m\u001b[0msample_user_ratings\u001b[0m\u001b[0;34m(\u001b[0m\u001b[0muser_index\u001b[0m\u001b[0;34m,\u001b[0m \u001b[0mnum_samples\u001b[0m\u001b[0;34m)\u001b[0m\u001b[0;34m\u001b[0m\u001b[0m\n\u001b[0m",
      "\u001b[0;32m/Users/eddiedu/csc2541_project/models/simple.py\u001b[0m in \u001b[0;36msample_user_ratings\u001b[0;34m(self, user_index, n_samples)\u001b[0m\n\u001b[1;32m     91\u001b[0m             \u001b[0mself\u001b[0m\u001b[0;34m.\u001b[0m\u001b[0mn_test_samples\u001b[0m\u001b[0;34m:\u001b[0m \u001b[0mn_samples\u001b[0m\u001b[0;34m\u001b[0m\u001b[0m\n\u001b[1;32m     92\u001b[0m         }\n\u001b[0;32m---> 93\u001b[0;31m         \u001b[0;32mreturn\u001b[0m \u001b[0mnp\u001b[0m\u001b[0;34m.\u001b[0m\u001b[0msqueeze\u001b[0m\u001b[0;34m(\u001b[0m\u001b[0med\u001b[0m\u001b[0;34m.\u001b[0m\u001b[0mget_session\u001b[0m\u001b[0;34m(\u001b[0m\u001b[0;34m)\u001b[0m\u001b[0;34m.\u001b[0m\u001b[0mrun\u001b[0m\u001b[0;34m(\u001b[0m\u001b[0mself\u001b[0m\u001b[0;34m.\u001b[0m\u001b[0msample_rhats\u001b[0m\u001b[0;34m,\u001b[0m \u001b[0mfeed_dict\u001b[0m\u001b[0;34m)\u001b[0m\u001b[0;34m)\u001b[0m\u001b[0;34m\u001b[0m\u001b[0m\n\u001b[0m\u001b[1;32m     94\u001b[0m \u001b[0;34m\u001b[0m\u001b[0m\n\u001b[1;32m     95\u001b[0m \u001b[0;34m\u001b[0m\u001b[0m\n",
      "\u001b[0;32m/Users/eddiedu/Library/Python/3.6/lib/python/site-packages/tensorflow/python/client/session.py\u001b[0m in \u001b[0;36mrun\u001b[0;34m(self, fetches, feed_dict, options, run_metadata)\u001b[0m\n\u001b[1;32m    893\u001b[0m     \u001b[0;32mtry\u001b[0m\u001b[0;34m:\u001b[0m\u001b[0;34m\u001b[0m\u001b[0m\n\u001b[1;32m    894\u001b[0m       result = self._run(None, fetches, feed_dict, options_ptr,\n\u001b[0;32m--> 895\u001b[0;31m                          run_metadata_ptr)\n\u001b[0m\u001b[1;32m    896\u001b[0m       \u001b[0;32mif\u001b[0m \u001b[0mrun_metadata\u001b[0m\u001b[0;34m:\u001b[0m\u001b[0;34m\u001b[0m\u001b[0m\n\u001b[1;32m    897\u001b[0m         \u001b[0mproto_data\u001b[0m \u001b[0;34m=\u001b[0m \u001b[0mtf_session\u001b[0m\u001b[0;34m.\u001b[0m\u001b[0mTF_GetBuffer\u001b[0m\u001b[0;34m(\u001b[0m\u001b[0mrun_metadata_ptr\u001b[0m\u001b[0;34m)\u001b[0m\u001b[0;34m\u001b[0m\u001b[0m\n",
      "\u001b[0;32m/Users/eddiedu/Library/Python/3.6/lib/python/site-packages/tensorflow/python/client/session.py\u001b[0m in \u001b[0;36m_run\u001b[0;34m(self, handle, fetches, feed_dict, options, run_metadata)\u001b[0m\n\u001b[1;32m   1122\u001b[0m     \u001b[0;32mif\u001b[0m \u001b[0mfinal_fetches\u001b[0m \u001b[0;32mor\u001b[0m \u001b[0mfinal_targets\u001b[0m \u001b[0;32mor\u001b[0m \u001b[0;34m(\u001b[0m\u001b[0mhandle\u001b[0m \u001b[0;32mand\u001b[0m \u001b[0mfeed_dict_tensor\u001b[0m\u001b[0;34m)\u001b[0m\u001b[0;34m:\u001b[0m\u001b[0;34m\u001b[0m\u001b[0m\n\u001b[1;32m   1123\u001b[0m       results = self._do_run(handle, final_targets, final_fetches,\n\u001b[0;32m-> 1124\u001b[0;31m                              feed_dict_tensor, options, run_metadata)\n\u001b[0m\u001b[1;32m   1125\u001b[0m     \u001b[0;32melse\u001b[0m\u001b[0;34m:\u001b[0m\u001b[0;34m\u001b[0m\u001b[0m\n\u001b[1;32m   1126\u001b[0m       \u001b[0mresults\u001b[0m \u001b[0;34m=\u001b[0m \u001b[0;34m[\u001b[0m\u001b[0;34m]\u001b[0m\u001b[0;34m\u001b[0m\u001b[0m\n",
      "\u001b[0;32m/Users/eddiedu/Library/Python/3.6/lib/python/site-packages/tensorflow/python/client/session.py\u001b[0m in \u001b[0;36m_do_run\u001b[0;34m(self, handle, target_list, fetch_list, feed_dict, options, run_metadata)\u001b[0m\n\u001b[1;32m   1319\u001b[0m     \u001b[0;32mif\u001b[0m \u001b[0mhandle\u001b[0m \u001b[0;32mis\u001b[0m \u001b[0;32mNone\u001b[0m\u001b[0;34m:\u001b[0m\u001b[0;34m\u001b[0m\u001b[0m\n\u001b[1;32m   1320\u001b[0m       return self._do_call(_run_fn, self._session, feeds, fetches, targets,\n\u001b[0;32m-> 1321\u001b[0;31m                            options, run_metadata)\n\u001b[0m\u001b[1;32m   1322\u001b[0m     \u001b[0;32melse\u001b[0m\u001b[0;34m:\u001b[0m\u001b[0;34m\u001b[0m\u001b[0m\n\u001b[1;32m   1323\u001b[0m       \u001b[0;32mreturn\u001b[0m \u001b[0mself\u001b[0m\u001b[0;34m.\u001b[0m\u001b[0m_do_call\u001b[0m\u001b[0;34m(\u001b[0m\u001b[0m_prun_fn\u001b[0m\u001b[0;34m,\u001b[0m \u001b[0mself\u001b[0m\u001b[0;34m.\u001b[0m\u001b[0m_session\u001b[0m\u001b[0;34m,\u001b[0m \u001b[0mhandle\u001b[0m\u001b[0;34m,\u001b[0m \u001b[0mfeeds\u001b[0m\u001b[0;34m,\u001b[0m \u001b[0mfetches\u001b[0m\u001b[0;34m)\u001b[0m\u001b[0;34m\u001b[0m\u001b[0m\n",
      "\u001b[0;32m/Users/eddiedu/Library/Python/3.6/lib/python/site-packages/tensorflow/python/client/session.py\u001b[0m in \u001b[0;36m_do_call\u001b[0;34m(self, fn, *args)\u001b[0m\n\u001b[1;32m   1325\u001b[0m   \u001b[0;32mdef\u001b[0m \u001b[0m_do_call\u001b[0m\u001b[0;34m(\u001b[0m\u001b[0mself\u001b[0m\u001b[0;34m,\u001b[0m \u001b[0mfn\u001b[0m\u001b[0;34m,\u001b[0m \u001b[0;34m*\u001b[0m\u001b[0margs\u001b[0m\u001b[0;34m)\u001b[0m\u001b[0;34m:\u001b[0m\u001b[0;34m\u001b[0m\u001b[0m\n\u001b[1;32m   1326\u001b[0m     \u001b[0;32mtry\u001b[0m\u001b[0;34m:\u001b[0m\u001b[0;34m\u001b[0m\u001b[0m\n\u001b[0;32m-> 1327\u001b[0;31m       \u001b[0;32mreturn\u001b[0m \u001b[0mfn\u001b[0m\u001b[0;34m(\u001b[0m\u001b[0;34m*\u001b[0m\u001b[0margs\u001b[0m\u001b[0;34m)\u001b[0m\u001b[0;34m\u001b[0m\u001b[0m\n\u001b[0m\u001b[1;32m   1328\u001b[0m     \u001b[0;32mexcept\u001b[0m \u001b[0merrors\u001b[0m\u001b[0;34m.\u001b[0m\u001b[0mOpError\u001b[0m \u001b[0;32mas\u001b[0m \u001b[0me\u001b[0m\u001b[0;34m:\u001b[0m\u001b[0;34m\u001b[0m\u001b[0m\n\u001b[1;32m   1329\u001b[0m       \u001b[0mmessage\u001b[0m \u001b[0;34m=\u001b[0m \u001b[0mcompat\u001b[0m\u001b[0;34m.\u001b[0m\u001b[0mas_text\u001b[0m\u001b[0;34m(\u001b[0m\u001b[0me\u001b[0m\u001b[0;34m.\u001b[0m\u001b[0mmessage\u001b[0m\u001b[0;34m)\u001b[0m\u001b[0;34m\u001b[0m\u001b[0m\n",
      "\u001b[0;32m/Users/eddiedu/Library/Python/3.6/lib/python/site-packages/tensorflow/python/client/session.py\u001b[0m in \u001b[0;36m_run_fn\u001b[0;34m(session, feed_dict, fetch_list, target_list, options, run_metadata)\u001b[0m\n\u001b[1;32m   1304\u001b[0m           return tf_session.TF_Run(session, options,\n\u001b[1;32m   1305\u001b[0m                                    \u001b[0mfeed_dict\u001b[0m\u001b[0;34m,\u001b[0m \u001b[0mfetch_list\u001b[0m\u001b[0;34m,\u001b[0m \u001b[0mtarget_list\u001b[0m\u001b[0;34m,\u001b[0m\u001b[0;34m\u001b[0m\u001b[0m\n\u001b[0;32m-> 1306\u001b[0;31m                                    status, run_metadata)\n\u001b[0m\u001b[1;32m   1307\u001b[0m \u001b[0;34m\u001b[0m\u001b[0m\n\u001b[1;32m   1308\u001b[0m     \u001b[0;32mdef\u001b[0m \u001b[0m_prun_fn\u001b[0m\u001b[0;34m(\u001b[0m\u001b[0msession\u001b[0m\u001b[0;34m,\u001b[0m \u001b[0mhandle\u001b[0m\u001b[0;34m,\u001b[0m \u001b[0mfeed_dict\u001b[0m\u001b[0;34m,\u001b[0m \u001b[0mfetch_list\u001b[0m\u001b[0;34m)\u001b[0m\u001b[0;34m:\u001b[0m\u001b[0;34m\u001b[0m\u001b[0m\n",
      "\u001b[0;31mKeyboardInterrupt\u001b[0m: "
     ]
    }
   ],
   "source": [
    "N_SAMPLES = 25\n",
    "\n",
    "exploit = []\n",
    "for _ in range(N_SAMPLES):\n",
    "    regret_per_user = test(spars_users[:20], bandit_algo_exploit)\n",
    "    total_regret, avg_regret = get_regret_stats(regret_per_user)\n",
    "    exploit.append(avg_regret)\n",
    "    \n",
    "random = []\n",
    "for _ in range(N_SAMPLES):\n",
    "    regret_per_user = test(spars_users[:20], bandit_algo_random)\n",
    "    total_regret, avg_regret = get_regret_stats(regret_per_user)\n",
    "    random.append(avg_regret)\n",
    "    \n",
    "egreedy = []\n",
    "for _ in range(N_SAMPLES):\n",
    "    regret_per_user = test(spars_users[:20], bandit_algo_egreedy)\n",
    "    total_regret, avg_regret = get_regret_stats(regret_per_user)\n",
    "    egreedy.append(avg_regret)"
   ]
  },
  {
   "cell_type": "code",
   "execution_count": null,
   "metadata": {
    "collapsed": true
   },
   "outputs": [],
   "source": [
    "plt.hist(exploit, histtype='step', label='exploit')\n",
    "plt.hist(random, histtype='step', label='random')\n",
    "plt.hist(egreedy, histtype='step', label='egreedy')\n",
    "plt.legend()\n",
    "plt.show()"
   ]
  },
  {
   "cell_type": "markdown",
   "metadata": {},
   "source": [
    "---"
   ]
  }
 ],
 "metadata": {
  "kernelspec": {
   "display_name": "Python 3",
   "language": "python",
   "name": "python3"
  },
  "language_info": {
   "codemirror_mode": {
    "name": "ipython",
    "version": 3
   },
   "file_extension": ".py",
   "mimetype": "text/x-python",
   "name": "python",
   "nbconvert_exporter": "python",
   "pygments_lexer": "ipython3",
   "version": "3.6.3"
  }
 },
 "nbformat": 4,
 "nbformat_minor": 2
}
