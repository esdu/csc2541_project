{
 "cells": [
  {
   "cell_type": "code",
   "execution_count": 1,
   "metadata": {
    "collapsed": true
   },
   "outputs": [],
   "source": [
    "import numpy as np\n",
    "import tensorflow as tf\n",
    "from tensorflow.contrib.distributions import Normal"
   ]
  },
  {
   "cell_type": "markdown",
   "metadata": {},
   "source": [
    "### Use STD"
   ]
  },
  {
   "cell_type": "code",
   "execution_count": 2,
   "metadata": {},
   "outputs": [],
   "source": [
    "tf.reset_default_graph()\n",
    "loc = tf.Variable(0.0)\n",
    "# Use STD\n",
    "std = tf.Variable(1.0)\n",
    "a = tf.distributions.Normal(loc=loc, scale=std)\n",
    "\n",
    "actual = tf.placeholder(tf.float32)\n",
    "loss = tf.square(a.sample() - actual)\n",
    "\n",
    "rate = 0.01\n",
    "optimizer = tf.train.AdamOptimizer(rate)\n",
    "update = optimizer.minimize(loss)"
   ]
  },
  {
   "cell_type": "code",
   "execution_count": 3,
   "metadata": {},
   "outputs": [
    {
     "name": "stdout",
     "output_type": "stream",
     "text": [
      "0 mean: -0.01 variance: 0.9801\n",
      "100 mean: 0.803874 variance: 0.290249\n",
      "200 mean: 1.30019 variance: 0.0852222\n",
      "300 mean: 1.67286 variance: 0.0173578\n",
      "400 mean: 1.85291 variance: 0.000166891\n",
      "500 mean: 1.92348 variance: 0.00805422\n",
      "600 mean: 2.12719 variance: 0.00777602\n",
      "700 mean: 2.12055 variance: 0.00524122\n",
      "800 mean: 2.12025 variance: 0.0119262\n",
      "900 mean: 1.95112 variance: 0.000830651\n",
      "1000 mean: 2.02418 variance: 9.5643e-06\n"
     ]
    }
   ],
   "source": [
    "sess = tf.InteractiveSession()\n",
    "sess.run(tf.global_variables_initializer())\n",
    "\n",
    "for i in range(1001):\n",
    "    x = np.random.normal(loc=2, scale=1)\n",
    "    sess.run(update, {actual: x})\n",
    "    if i%100 == 0:\n",
    "        print(i, 'mean:', loc.eval(), 'variance:', tf.square(std).eval())\n",
    "\n",
    "sess.close()"
   ]
  },
  {
   "cell_type": "markdown",
   "metadata": {},
   "source": [
    "### Use Log Variance"
   ]
  },
  {
   "cell_type": "code",
   "execution_count": 4,
   "metadata": {
    "collapsed": true
   },
   "outputs": [],
   "source": [
    "tf.reset_default_graph()\n",
    "loc = tf.Variable(0.0)\n",
    "# Use Log Variance\n",
    "log_var = tf.Variable(0.0)\n",
    "var = tf.exp(log_var)\n",
    "a = tf.distributions.Normal(loc=loc, scale=tf.sqrt(var))\n",
    "\n",
    "actual = tf.placeholder(tf.float32)\n",
    "loss = tf.square(a.sample() - actual)\n",
    "\n",
    "rate = 0.01\n",
    "optimizer = tf.train.AdamOptimizer(rate)\n",
    "update = optimizer.minimize(loss)"
   ]
  },
  {
   "cell_type": "code",
   "execution_count": 5,
   "metadata": {},
   "outputs": [
    {
     "name": "stdout",
     "output_type": "stream",
     "text": [
      "0 mean: 0.01 variance: 0.99005\n",
      "100 mean: 0.683656 variance: 0.678977\n",
      "200 mean: 1.24871 variance: 0.514778\n",
      "300 mean: 1.55462 variance: 0.394248\n",
      "400 mean: 1.72604 variance: 0.315916\n",
      "500 mean: 1.75946 variance: 0.265471\n",
      "600 mean: 1.87848 variance: 0.224351\n",
      "700 mean: 1.854 variance: 0.187122\n",
      "800 mean: 1.94155 variance: 0.15555\n",
      "900 mean: 2.05871 variance: 0.131409\n",
      "1000 mean: 2.00143 variance: 0.118201\n"
     ]
    }
   ],
   "source": [
    "sess = tf.InteractiveSession()\n",
    "sess.run(tf.global_variables_initializer())\n",
    "\n",
    "for i in range(1001):\n",
    "    x = np.random.normal(loc=2, scale=1)\n",
    "    sess.run(update, {actual: x})\n",
    "    if i%100 == 0:\n",
    "        print(i, 'mean:', loc.eval(), 'variance:', var.eval())\n",
    "\n",
    "sess.close()"
   ]
  },
  {
   "cell_type": "markdown",
   "metadata": {},
   "source": [
    "This is better, but still not ideal!"
   ]
  },
  {
   "cell_type": "code",
   "execution_count": null,
   "metadata": {
    "collapsed": true
   },
   "outputs": [],
   "source": []
  }
 ],
 "metadata": {
  "kernelspec": {
   "display_name": "Python 3",
   "language": "python",
   "name": "python3"
  },
  "language_info": {
   "codemirror_mode": {
    "name": "ipython",
    "version": 3
   },
   "file_extension": ".py",
   "mimetype": "text/x-python",
   "name": "python",
   "nbconvert_exporter": "python",
   "pygments_lexer": "ipython3",
   "version": "3.6.3"
  }
 },
 "nbformat": 4,
 "nbformat_minor": 2
}
