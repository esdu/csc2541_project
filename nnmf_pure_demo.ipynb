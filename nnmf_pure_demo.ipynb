{
 "cells": [
  {
   "cell_type": "code",
   "execution_count": 1,
   "metadata": {
    "collapsed": true
   },
   "outputs": [],
   "source": [
    "%matplotlib inline\n",
    "from matplotlib import pyplot as plt\n",
    "import matplotlib; matplotlib.rcParams['figure.figsize'] = (15,3)"
   ]
  },
  {
   "cell_type": "code",
   "execution_count": 2,
   "metadata": {
    "collapsed": true
   },
   "outputs": [],
   "source": [
    "import numpy as np"
   ]
  },
  {
   "cell_type": "code",
   "execution_count": 3,
   "metadata": {
    "collapsed": true
   },
   "outputs": [],
   "source": [
    "# Reload all packages - make debugging easier\n",
    "%load_ext autoreload\n",
    "%autoreload 2"
   ]
  },
  {
   "cell_type": "markdown",
   "metadata": {},
   "source": [
    "---"
   ]
  },
  {
   "cell_type": "markdown",
   "metadata": {},
   "source": [
    "Use some matrix... just check if it trains and if so how quickly"
   ]
  },
  {
   "cell_type": "code",
   "execution_count": 4,
   "metadata": {
    "collapsed": true
   },
   "outputs": [],
   "source": [
    "# from movieLensAnalyzer import MovieLensAnalyzer \n",
    "# movieLensAnalyzer = MovieLensAnalyzer()\n",
    "# R = movieLensAnalyzer.trainRatingMatrix"
   ]
  },
  {
   "cell_type": "code",
   "execution_count": 5,
   "metadata": {
    "collapsed": true
   },
   "outputs": [],
   "source": [
    "SPARSE = True"
   ]
  },
  {
   "cell_type": "code",
   "execution_count": 6,
   "metadata": {
    "collapsed": true
   },
   "outputs": [],
   "source": [
    "from movieLensAnalyzer import MovieLensAnalyzer \n",
    "movieLensAnalyzer = MovieLensAnalyzer()\n",
    "R_train = movieLensAnalyzer.trainRatingMatrix\n",
    "R_test = movieLensAnalyzer.testRatingMatrix\n",
    "R = R_train + R_test"
   ]
  },
  {
   "cell_type": "code",
   "execution_count": 7,
   "metadata": {},
   "outputs": [],
   "source": [
    "if not SPARSE:\n",
    "    print(\"% of items: \", np.sum(R > 0) / (R.shape[0] * R.shape[1]))\n",
    "\n",
    "    R_dense = np.copy(R)\n",
    "    MIN_PERC_FILLED = 0.3\n",
    "\n",
    "    idx = []\n",
    "    # Remove items\n",
    "    for j in range(R_dense.shape[1]):\n",
    "        perc_filled = np.sum(R_dense[:,j] > 0) / R_dense.shape[0]\n",
    "        if perc_filled >= MIN_PERC_FILLED:\n",
    "            idx.append(j)\n",
    "    R_dense = R_dense[:, idx]\n",
    "    R_dense.shape\n",
    "\n",
    "    idx = []\n",
    "    # Remove users\n",
    "    for i in range(R_dense.shape[0]):\n",
    "        perc_filled = np.sum(R_dense[i,:] > 0) / R_dense.shape[1]\n",
    "        if perc_filled >= MIN_PERC_FILLED:\n",
    "            idx.append(i)\n",
    "    R_dense = R_dense[idx, :]\n",
    "    R_dense.shape\n",
    "\n",
    "    print(\"% of items: \", np.sum(R_dense > 0) / (R_dense.shape[0] * R_dense.shape[1]))\n",
    "\n",
    "    R = R_dense"
   ]
  },
  {
   "cell_type": "code",
   "execution_count": null,
   "metadata": {
    "collapsed": true
   },
   "outputs": [],
   "source": []
  },
  {
   "cell_type": "markdown",
   "metadata": {},
   "source": [
    "---"
   ]
  },
  {
   "cell_type": "code",
   "execution_count": 8,
   "metadata": {
    "collapsed": true
   },
   "outputs": [],
   "source": [
    "NUM_USERS_DENSE = 20\n",
    "NUM_USERS_SPARS = 20\n",
    "PERC_DROP = 0.3 # approximately.\n",
    "\n",
    "rating_density_per_user = list(zip(np.sum(R>0, axis=1), range(R.shape[0])))\n",
    "dense_users = sorted(rating_density_per_user, key=lambda x: -x[0])[:NUM_USERS_DENSE]\n",
    "spars_users = sorted(rating_density_per_user, key=lambda x:  x[0])[:NUM_USERS_SPARS]\n",
    "\n",
    "train_mask = R > 0\n",
    "\n",
    "# The test masks we'll use later.\n",
    "test_masks = {}\n",
    "\n",
    "# We artifically dropout some elements from the users we're interested in. Assume the rest of the matrix is filled.\n",
    "np.random.seed(1337)\n",
    "for _, idx in (dense_users + spars_users):\n",
    "    before = np.copy(train_mask[idx, :])\n",
    "    \n",
    "    dropout = 1-np.random.binomial(1, PERC_DROP, size=R.shape[1])\n",
    "    train_mask[idx, :] = dropout * train_mask[idx, :]\n",
    "    \n",
    "    test_mask = np.bitwise_xor(before, train_mask[idx, :])\n",
    "    test_masks[idx] = test_mask"
   ]
  },
  {
   "cell_type": "code",
   "execution_count": 9,
   "metadata": {},
   "outputs": [
    {
     "name": "stdout",
     "output_type": "stream",
     "text": [
      "96944\n",
      "3056\n"
     ]
    }
   ],
   "source": [
    "# sanity check\n",
    "print(np.sum(train_mask))\n",
    "print(np.sum([np.sum(m) for _, m in test_masks.items()]))"
   ]
  },
  {
   "cell_type": "markdown",
   "metadata": {},
   "source": [
    "---"
   ]
  },
  {
   "cell_type": "markdown",
   "metadata": {},
   "source": [
    "Our model.\n",
    "\n",
    "Note we haven't fully cross validated yet, so the result is not be optimal."
   ]
  },
  {
   "cell_type": "code",
   "execution_count": 10,
   "metadata": {},
   "outputs": [],
   "source": [
    "from nnmf_vanilla import NNMFVanilla\n",
    "model = NNMFVanilla(ratingMatrix=R)"
   ]
  },
  {
   "cell_type": "markdown",
   "metadata": {},
   "source": [
    "---"
   ]
  },
  {
   "cell_type": "markdown",
   "metadata": {},
   "source": [
    "Evaluation code. We'll look at the output for an arbituary user.\n",
    "\n",
    "First, we look at the prior Rhats."
   ]
  },
  {
   "cell_type": "code",
   "execution_count": 11,
   "metadata": {},
   "outputs": [
    {
     "name": "stdout",
     "output_type": "stream",
     "text": [
      "User 11\n",
      "Rhats : [-2. -2. -2. -2. -2. -2. -3. -1. -1. -2. -2. -2. -2. -2. -3. -2. -2. -2.\n",
      " -2. -2. -3. -2. -2. -1. -2. -1. -2. -2. -1. -1.]\n",
      "Actual: [ 5.  5.  5.  4.  5.  4.  4.  5.  4.  5.  5.  4.  5.  4.  5.  5.  4.  5.\n",
      "  4.  4.  4.  5.  5.  4.  5.  1.  4.  3.  5.  4.]\n",
      "MSE per user [40.837776322217486]\n",
      "CPU times: user 34 ms, sys: 3.83 ms, total: 37.8 ms\n",
      "Wall time: 42.8 ms\n"
     ]
    }
   ],
   "source": [
    "def plot_R(rhats, r=None, title=''):\n",
    "    _, n_items = rhats.shape\n",
    "    f, axes = plt.subplots(1, n_items, sharex=True, sharey=True)\n",
    "    i = 0\n",
    "    for j in range(n_items):\n",
    "        if r is not None:\n",
    "            axes[j].axvline(x=r[j], color='r', alpha=0.4)\n",
    "        axes[j].hist(rhats[:,j], histtype='stepfilled', normed=True)\n",
    "    plt.xlim([0,6])\n",
    "    f.suptitle(title)\n",
    "    plt.show()\n",
    "\n",
    "TEST_USERS = [11]\n",
    "    \n",
    "def score():\n",
    "    # For now, just some mse of random users.\n",
    "    mses = []\n",
    "    for user_index in TEST_USERS:\n",
    "        print('User', user_index)\n",
    "        idx = np.where(R[user_index] > 0)\n",
    "        samples = np.squeeze(model.sample_for_user(user_index, 50)[:,idx], axis=(1,))\n",
    "        rhats = np.mean(samples, axis=0)\n",
    "        r = R[user_index][idx]\n",
    "        print(\"Rhats :\", np.round(rhats[:30]))\n",
    "        print(\"Actual:\", r[:30])\n",
    "        mses.append(np.mean(np.square(rhats - r)))\n",
    "    print(\"MSE per user\", mses)\n",
    "\n",
    "%time score()"
   ]
  },
  {
   "cell_type": "markdown",
   "metadata": {},
   "source": [
    "Train, and look at posterior Rhats, as well as the MSE for each of our chosen users."
   ]
  },
  {
   "cell_type": "code",
   "execution_count": 12,
   "metadata": {
    "collapsed": true
   },
   "outputs": [],
   "source": [
    "#mask = R>0"
   ]
  },
  {
   "cell_type": "code",
   "execution_count": 13,
   "metadata": {},
   "outputs": [
    {
     "name": "stdout",
     "output_type": "stream",
     "text": [
      "CPU times: user 1min 8s, sys: 10.8 s, total: 1min 18s\n",
      "Wall time: 55.5 s\n",
      "User 11\n",
      "Rhats : [ 4.  4.  4.  5.  4.  4.  4.  4.  4.  4.  5.  5.  5.  4.  4.  4.  4.  4.\n",
      "  5.  5.  5.  5.  5.  4.  4.  4.  4.  4.  4.  4.]\n",
      "Actual: [ 5.  5.  5.  4.  5.  4.  4.  5.  4.  5.  5.  4.  5.  4.  5.  5.  4.  5.\n",
      "  4.  4.  4.  5.  5.  4.  5.  1.  4.  3.  5.  4.]\n",
      "MSE per user [0.64018090722287102]\n"
     ]
    },
    {
     "data": {
      "image/png": "[encoded data removed]",
      "text/plain": [
       "<matplotlib.figure.Figure at 0x126360f98>"
      ]
     },
     "metadata": {},
     "output_type": "display_data"
    }
   ],
   "source": [
    "%time losses = model.train(legalTrainIndices=train_mask)\n",
    "plt.plot(losses)\n",
    "score()"
   ]
  },
  {
   "cell_type": "code",
   "execution_count": 14,
   "metadata": {},
   "outputs": [
    {
     "data": {
      "text/plain": [
       "'nnmf_vanilla_sparse_6000_simple_architecture.pkl'"
      ]
     },
     "execution_count": 14,
     "metadata": {},
     "output_type": "execute_result"
    }
   ],
   "source": [
    "#model.save('nnmf_vanilla_6000.pkl')\n",
    "model.save('nnmf_vanilla_sparse_6000_simple_architecture.pkl')"
   ]
  },
  {
   "cell_type": "markdown",
   "metadata": {},
   "source": [
    "---"
   ]
  },
  {
   "cell_type": "markdown",
   "metadata": {},
   "source": [
    "Test save, load, reset."
   ]
  },
  {
   "cell_type": "code",
   "execution_count": 15,
   "metadata": {},
   "outputs": [
    {
     "data": {
      "text/plain": [
       "'bla.pkl'"
      ]
     },
     "execution_count": 15,
     "metadata": {},
     "output_type": "execute_result"
    }
   ],
   "source": [
    "model.save('bla.pkl') # We save as pickles. It would be better (for style) if you use the .pkl extension."
   ]
  },
  {
   "cell_type": "code",
   "execution_count": 16,
   "metadata": {
    "collapsed": true
   },
   "outputs": [],
   "source": [
    "model.reset()"
   ]
  },
  {
   "cell_type": "code",
   "execution_count": 17,
   "metadata": {
    "scrolled": false
   },
   "outputs": [
    {
     "name": "stdout",
     "output_type": "stream",
     "text": [
      "User 11\n",
      "Rhats : [-2. -2. -2. -3. -2.  0. -2. -2. -2. -2. -1. -2. -3. -2. -1. -3. -2. -2.\n",
      " -1. -1. -2.]\n",
      "Actual: [ 1.  1.  4.  4.  3.  5.  1.  3.  2.  5.  3.  3.  4.  3.  5.  2.  4.  4.\n",
      "  3.  2.  3.]\n",
      "MSE per user [25.405309953042654]\n"
     ]
    }
   ],
   "source": [
    "score()"
   ]
  },
  {
   "cell_type": "code",
   "execution_count": 18,
   "metadata": {
    "collapsed": true
   },
   "outputs": [],
   "source": [
    "model.load('bla.pkl')"
   ]
  },
  {
   "cell_type": "code",
   "execution_count": 19,
   "metadata": {},
   "outputs": [
    {
     "name": "stdout",
     "output_type": "stream",
     "text": [
      "User 11\n",
      "Rhats : [ 3.  3.  3.  3.  3.  4.  3.  3.  4.  3.  3.  3.  3.  3.  3.  3.  3.  4.\n",
      "  3.  3.  3.]\n",
      "Actual: [ 1.  1.  4.  4.  3.  5.  1.  3.  2.  5.  3.  3.  4.  3.  5.  2.  4.  4.\n",
      "  3.  2.  3.]\n",
      "MSE per user [1.3104257180700534]\n"
     ]
    }
   ],
   "source": [
    "score()"
   ]
  },
  {
   "cell_type": "code",
   "execution_count": null,
   "metadata": {
    "collapsed": true
   },
   "outputs": [],
   "source": []
  }
 ],
 "metadata": {
  "kernelspec": {
   "display_name": "Python 3",
   "language": "python",
   "name": "python3"
  },
  "language_info": {
   "codemirror_mode": {
    "name": "ipython",
    "version": 3
   },
   "file_extension": ".py",
   "mimetype": "text/x-python",
   "name": "python",
   "nbconvert_exporter": "python",
   "pygments_lexer": "ipython3",
   "version": "3.6.3"
  }
 },
 "nbformat": 4,
 "nbformat_minor": 2
}
