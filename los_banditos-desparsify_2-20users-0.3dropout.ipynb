{
 "cells": [
  {
   "cell_type": "markdown",
   "metadata": {},
   "source": [
    "<img src=\"https://blogs.mathworks.com/images/loren/2016/multiarmedbandit.jpg\"></img>"
   ]
  },
  {
   "cell_type": "code",
   "execution_count": 1,
   "metadata": {
    "collapsed": true
   },
   "outputs": [],
   "source": [
    "%matplotlib inline\n",
    "from matplotlib import pyplot as plt\n",
    "import matplotlib; matplotlib.rcParams['figure.figsize'] = (15,3)\n",
    "from IPython.display import display"
   ]
  },
  {
   "cell_type": "code",
   "execution_count": 2,
   "metadata": {
    "collapsed": true
   },
   "outputs": [],
   "source": [
    "import numpy as np\n",
    "import os"
   ]
  },
  {
   "cell_type": "code",
   "execution_count": 3,
   "metadata": {
    "collapsed": true
   },
   "outputs": [],
   "source": [
    "# Reload all packages - make debugging easier\n",
    "%load_ext autoreload\n",
    "%autoreload 2"
   ]
  },
  {
   "cell_type": "markdown",
   "metadata": {},
   "source": [
    "---"
   ]
  },
  {
   "cell_type": "code",
   "execution_count": 8,
   "metadata": {
    "collapsed": true
   },
   "outputs": [],
   "source": [
    "from exp.utils import load_R, desparsify_2, prepare_test_users"
   ]
  },
  {
   "cell_type": "code",
   "execution_count": 9,
   "metadata": {},
   "outputs": [
    {
     "name": "stdout",
     "output_type": "stream",
     "text": [
      "R contains 100000 ratings\n",
      "Before desparsify: % of items:  0.0630466936422\n",
      "After desparsify: % of items:  0.373593572446\n",
      "Size:  (354, 353)\n"
     ]
    }
   ],
   "source": [
    "R = load_R()\n",
    "\n",
    "# One reason our model doesn't seem to work well may be due to the matrix being too sparse.\n",
    "R = desparsify_2(R)\n",
    "\n",
    "# The point of this is to check that if we can fine-tune a model and still obtain meaningful uncertainty **updates** per user.\n",
    "# First, we pick a significant amount of users to check.\n",
    "dense_users, spars_users, train_mask, test_masks = \\\n",
    "    prepare_test_users(R, NUM_USERS_DENSE = 20, NUM_USERS_SPARS = 20, PERC_DROP = 0.3)"
   ]
  },
  {
   "cell_type": "code",
   "execution_count": 10,
   "metadata": {},
   "outputs": [
    {
     "name": "stdout",
     "output_type": "stream",
     "text": [
      "44730\n",
      "1955\n"
     ]
    }
   ],
   "source": [
    "# sanity check\n",
    "print(np.sum(train_mask))\n",
    "print(np.sum([np.sum(m) for _, m in test_masks.items()]))"
   ]
  },
  {
   "cell_type": "markdown",
   "metadata": {},
   "source": [
    "---"
   ]
  },
  {
   "cell_type": "markdown",
   "metadata": {},
   "source": [
    "Choose our model."
   ]
  },
  {
   "cell_type": "code",
   "execution_count": 11,
   "metadata": {
    "collapsed": true
   },
   "outputs": [],
   "source": [
    "from pmf import PMF\n",
    "model = PMF(ratingMatrix=R)"
   ]
  },
  {
   "cell_type": "markdown",
   "metadata": {},
   "source": [
    "Some helper functions:"
   ]
  },
  {
   "cell_type": "code",
   "execution_count": 12,
   "metadata": {
    "collapsed": true
   },
   "outputs": [],
   "source": [
    "def plot_R(rhats, r=None, title=''):\n",
    "    _, n_items = rhats.shape\n",
    "    f, axes = plt.subplots(1, n_items, sharex=True, sharey=True)\n",
    "    i = 0\n",
    "    for j in range(n_items):\n",
    "        if r is not None:\n",
    "            axes[j].axvline(x=r[j], color='r', alpha=0.4)\n",
    "        axes[j].hist(rhats[:,j], histtype='stepfilled', normed=True, bins=100)\n",
    "    plt.xlim([0,6])\n",
    "    f.suptitle(title)\n",
    "    plt.show()\n",
    "    \n",
    "# Empirical Entropy of Ratings\n",
    "from empirical_entropy import empirical_entropy\n",
    "def get_entropy_data(model, user_index, intended_mask, num_samples=500):\n",
    "    samples = model.sample_for_user(user_index, num_samples)\n",
    "    _, per_item_entropy = empirical_entropy(samples)\n",
    "    mean_all_entropy = np.mean(per_item_entropy[np.where(R[user_index,:] > 0)]) # all items we could see\n",
    "    mean_intended_entropy = np.mean(per_item_entropy[np.where(intended_mask)]) # just elements we meant to test on\n",
    "    return mean_all_entropy, mean_intended_entropy\n",
    "\n",
    "# Latent Variable Entropy\n",
    "def joint_entropy(vars):\n",
    "    marginal_entropy = 0.5*np.log(2*np.pi*np.e*vars)\n",
    "    joint_entropy = np.sum(vars, axis=1)\n",
    "    return joint_entropy\n",
    "    \n",
    "# Fetch user latent variables and return their entropy for PMF\n",
    "def get_user_latent_entropy_PMF(model, user):\n",
    "    import tensorflow as tf\n",
    "\n",
    "    sess = model.sess\n",
    "    graph_vars = tf.get_collection(tf.GraphKeys.TRAINABLE_VARIABLES)\n",
    "    U_var  = graph_vars[1]\n",
    "    Up_var = graph_vars[3]\n",
    "\n",
    "    U_entropy = joint_entropy(sess.run(tf.nn.softplus(U_var)))\n",
    "    Up_entropy = joint_entropy(sess.run(tf.nn.softplus(Up_var)))\n",
    "    \n",
    "    return U_entropy[user], Up_entropy[user]"
   ]
  },
  {
   "cell_type": "code",
   "execution_count": null,
   "metadata": {
    "collapsed": true
   },
   "outputs": [],
   "source": []
  },
  {
   "cell_type": "code",
   "execution_count": null,
   "metadata": {
    "collapsed": true
   },
   "outputs": [],
   "source": []
  },
  {
   "cell_type": "markdown",
   "metadata": {},
   "source": [
    "---"
   ]
  },
  {
   "cell_type": "code",
   "execution_count": null,
   "metadata": {
    "collapsed": true
   },
   "outputs": [],
   "source": []
  },
  {
   "cell_type": "code",
   "execution_count": null,
   "metadata": {
    "collapsed": true
   },
   "outputs": [],
   "source": []
  },
  {
   "cell_type": "code",
   "execution_count": null,
   "metadata": {
    "collapsed": true
   },
   "outputs": [],
   "source": []
  },
  {
   "cell_type": "code",
   "execution_count": 13,
   "metadata": {
    "collapsed": true
   },
   "outputs": [],
   "source": [
    "N_STEPS_INITIAL_TRAIN = 1500\n",
    "N_STEPS_FINETUNE = 500"
   ]
  },
  {
   "cell_type": "code",
   "execution_count": 14,
   "metadata": {
    "scrolled": true
   },
   "outputs": [
    {
     "name": "stdout",
     "output_type": "stream",
     "text": [
      "CPU times: user 37.8 s, sys: 8.97 s, total: 46.7 s\n",
      "Wall time: 22.2 s\n"
     ]
    },
    {
     "data": {
      "text/plain": [
       "'test_checkpoing_pmf1500.ckpt'"
      ]
     },
     "execution_count": 14,
     "metadata": {},
     "output_type": "execute_result"
    }
   ],
   "source": [
    "CHECKPOING_FILENAME = 'test_checkpoing_pmf1500.ckpt'\n",
    "\n",
    "%time loss = model.train(train_mask, n_iter=N_STEPS_INITIAL_TRAIN)\n",
    "model.save(CHECKPOING_FILENAME)"
   ]
  },
  {
   "cell_type": "code",
   "execution_count": 16,
   "metadata": {
    "collapsed": true,
    "scrolled": false
   },
   "outputs": [],
   "source": [
    "from banditChoice import BanditChoice\n",
    "bandit = BanditChoice()\n",
    "\n",
    "def bandit_algo_random(samples, mask):\n",
    "    _avail_idx = np.where(mask)[0]\n",
    "    item = bandit.get_egreedy(samples[:,_avail_idx], _avail_idx, epsilon=1.0)\n",
    "    return item\n",
    "\n",
    "def bandit_algo_exploit(samples, mask):\n",
    "    _avail_idx = np.where(mask)[0]\n",
    "    item = bandit.get_egreedy(samples[:,_avail_idx], _avail_idx, epsilon=0.0)\n",
    "    return item\n",
    "\n",
    "def bandit_algo_egreedy(samples, mask):\n",
    "    _avail_idx = np.where(mask)[0]\n",
    "    item = bandit.get_egreedy(samples[:,_avail_idx], _avail_idx, epsilon=0.1)\n",
    "    return item\n",
    "\n",
    "def bandit_algo_ucb(samples, mask):\n",
    "    _avail_idx = np.where(mask)[0]\n",
    "    item = bandit.get_ucb(samples[:,_avail_idx], _avail_idx)\n",
    "    return item\n",
    "\n",
    "def test(users, bandit_algo, train=False, verbose=False):\n",
    "    regret_per_user = {}\n",
    "    for _, user in users:\n",
    "        if verbose: print(\"---------------------- USER {} ----------------------\".format(user))\n",
    "\n",
    "        regret = []\n",
    "\n",
    "        mask_ = np.copy(train_mask)\n",
    "        test_mask_ = np.copy(test_masks[user])\n",
    "        n_items = np.sum(test_mask_)\n",
    "\n",
    "        cnt = 0\n",
    "\n",
    "        for i in range(n_items):\n",
    "            cnt += 1\n",
    "\n",
    "            # Bandit\n",
    "            samples = model.sample_for_user(user, 100)\n",
    "            item = bandit_algo(samples, test_mask_)\n",
    "\n",
    "            # Regret\n",
    "            item_rating = R[user, item]\n",
    "            best_item_rating = np.max(R[user, :] * test_mask_)\n",
    "            regret.append(best_item_rating - item_rating)\n",
    "\n",
    "            # Retrain\n",
    "            mask_[user,item] = 1 # Showed this item; we can now train on it.\n",
    "            test_mask_[item] = 0 # Can't show this item anymore.\n",
    "            if train:\n",
    "                model.load(CHECKPOING_FILENAME)\n",
    "                model.train(mask_, n_iter=N_STEPS_FINETUNE)\n",
    "\n",
    "        regret_per_user[user] = regret\n",
    "    return regret_per_user"
   ]
  },
  {
   "cell_type": "markdown",
   "metadata": {},
   "source": [
    "Evaluation helpers:"
   ]
  },
  {
   "cell_type": "code",
   "execution_count": 17,
   "metadata": {
    "collapsed": true,
    "scrolled": true
   },
   "outputs": [],
   "source": [
    "def plot_inst_regret(regret_per_user):\n",
    "    for u_id, regret in regret_per_user.items():\n",
    "        plt.plot(regret)\n",
    "        plt.title(\"User {} regret over time\".format(u_id))\n",
    "    plt.show()\n",
    "    \n",
    "def plot_cum_regret(regret_per_user):\n",
    "    for u_id, regret in regret_per_user.items():\n",
    "        plt.plot(np.cumsum(regret))\n",
    "        plt.title(\"User {} cumulative regret over time\".format(u_id))\n",
    "    plt.show()\n",
    "        \n",
    "def get_regret_stats(regret_per_user):\n",
    "    if len(regret_per_user.items()) == 0:\n",
    "        return float('nan'), float('nan')\n",
    "    total_regret = sum([sum(regret) for _, regret in regret_per_user.items()])\n",
    "    avg_regret = total_regret / len(regret_per_user.items())\n",
    "    return total_regret, avg_regret\n",
    "\n",
    "def print_regret_stats(regret_per_user):\n",
    "    total_regret, avg_regret = get_regret_stats(regret_per_user)\n",
    "    print(\"Total regret: {}\".format(total_regret))\n",
    "    print(\"Avg: {}\".format(avg_regret))"
   ]
  },
  {
   "cell_type": "code",
   "execution_count": 18,
   "metadata": {
    "scrolled": false
   },
   "outputs": [
    {
     "name": "stdout",
     "output_type": "stream",
     "text": [
      "CPU times: user 2min 12s, sys: 5.79 s, total: 2min 17s\n",
      "Wall time: 45.2 s\n",
      "CPU times: user 2min 12s, sys: 5.68 s, total: 2min 17s\n",
      "Wall time: 43.6 s\n",
      "CPU times: user 2min 11s, sys: 5.84 s, total: 2min 17s\n",
      "Wall time: 48.3 s\n",
      "CPU times: user 38 s, sys: 1.64 s, total: 39.6 s\n",
      "Wall time: 12.2 s\n",
      "CPU times: user 38.1 s, sys: 1.63 s, total: 39.7 s\n",
      "Wall time: 12.3 s\n",
      "CPU times: user 38.4 s, sys: 1.8 s, total: 40.2 s\n",
      "Wall time: 14.8 s\n"
     ]
    }
   ],
   "source": [
    "%time dense20egreedy = test(dense_users[:20], bandit_algo_egreedy)\n",
    "%time dense20random  = test(dense_users[:20], bandit_algo_random)\n",
    "%time dense20exploit = test(dense_users[:20], bandit_algo_exploit)\n",
    "%time spars20egreedy = test(spars_users[:20], bandit_algo_egreedy)\n",
    "%time spars20random  = test(spars_users[:20], bandit_algo_random)\n",
    "%time spars20exploit = test(spars_users[:20], bandit_algo_exploit)"
   ]
  },
  {
   "cell_type": "code",
   "execution_count": 19,
   "metadata": {},
   "outputs": [
    {
     "name": "stdout",
     "output_type": "stream",
     "text": [
      "Total regret: 1588.0\n",
      "Avg: 79.4\n",
      "Total regret: 1938.0\n",
      "Avg: 96.9\n",
      "Total regret: 1526.0\n",
      "Avg: 76.3\n",
      "Total regret: 366.0\n",
      "Avg: 18.3\n",
      "Total regret: 453.0\n",
      "Avg: 22.65\n",
      "Total regret: 350.0\n",
      "Avg: 17.5\n"
     ]
    }
   ],
   "source": [
    "print_regret_stats(dense20egreedy)\n",
    "print_regret_stats(dense20random)\n",
    "print_regret_stats(dense20exploit)\n",
    "print_regret_stats(spars20egreedy)\n",
    "print_regret_stats(spars20random)\n",
    "print_regret_stats(spars20exploit)"
   ]
  },
  {
   "cell_type": "markdown",
   "metadata": {},
   "source": [
    "The results are slightly random. It would be better to take more samples."
   ]
  },
  {
   "cell_type": "code",
   "execution_count": 20,
   "metadata": {
    "collapsed": true
   },
   "outputs": [],
   "source": [
    "N_SAMPLES = 25\n",
    "\n",
    "exploit = []\n",
    "for _ in range(N_SAMPLES):\n",
    "    regret_per_user = test(spars_users[:20], bandit_algo_exploit)\n",
    "    total_regret, avg_regret = get_regret_stats(regret_per_user)\n",
    "    exploit.append(avg_regret)\n",
    "    \n",
    "random = []\n",
    "for _ in range(N_SAMPLES):\n",
    "    regret_per_user = test(spars_users[:20], bandit_algo_random)\n",
    "    total_regret, avg_regret = get_regret_stats(regret_per_user)\n",
    "    random.append(avg_regret)\n",
    "    \n",
    "egreedy = []\n",
    "for _ in range(N_SAMPLES):\n",
    "    regret_per_user = test(spars_users[:20], bandit_algo_egreedy)\n",
    "    total_regret, avg_regret = get_regret_stats(regret_per_user)\n",
    "    egreedy.append(avg_regret)"
   ]
  },
  {
   "cell_type": "code",
   "execution_count": 21,
   "metadata": {},
   "outputs": [
    {
     "data": {
      "image/png": "[encoded data removed]",
      "text/plain": [
       "<matplotlib.figure.Figure at 0x108e33940>"
      ]
     },
     "metadata": {},
     "output_type": "display_data"
    }
   ],
   "source": [
    "plt.hist(exploit, histtype='step', label='exploit')\n",
    "plt.hist(random, histtype='step', label='random')\n",
    "plt.hist(egreedy, histtype='step', label='egreedy')\n",
    "plt.legend()\n",
    "plt.show()"
   ]
  },
  {
   "cell_type": "markdown",
   "metadata": {},
   "source": [
    "---"
   ]
  }
 ],
 "metadata": {
  "kernelspec": {
   "display_name": "Python 3",
   "language": "python",
   "name": "python3"
  },
  "language_info": {
   "codemirror_mode": {
    "name": "ipython",
    "version": 3
   },
   "file_extension": ".py",
   "mimetype": "text/x-python",
   "name": "python",
   "nbconvert_exporter": "python",
   "pygments_lexer": "ipython3",
   "version": "3.6.3"
  }
 },
 "nbformat": 4,
 "nbformat_minor": 2
}
