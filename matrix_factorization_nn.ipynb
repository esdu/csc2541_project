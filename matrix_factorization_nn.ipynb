{
 "cells": [
  {
   "cell_type": "markdown",
   "metadata": {},
   "source": [
    "# Matrix Factorization with NN\n",
    "\n",
    "Somewhat like https://arxiv.org/abs/1511.06443, but we're training all the params together with GD.\n",
    "\n"
   ]
  },
  {
   "cell_type": "code",
   "execution_count": null,
   "metadata": {
    "collapsed": true
   },
   "outputs": [],
   "source": [
    "#configure plotting\n",
    "%matplotlib inline\n",
    "%config InlineBackend.figure_format = 'svg'\n",
    "import matplotlib;matplotlib.rcParams['figure.figsize'] = (8,5)\n",
    "from matplotlib import pyplot as plt\n",
    "from IPython.display import display"
   ]
  },
  {
   "cell_type": "code",
   "execution_count": null,
   "metadata": {
    "collapsed": true
   },
   "outputs": [],
   "source": [
    "import numpy as np\n",
    "import tensorflow as tf\n",
    "import random"
   ]
  },
  {
   "cell_type": "markdown",
   "metadata": {},
   "source": [
    "# Dev"
   ]
  },
  {
   "cell_type": "code",
   "execution_count": null,
   "metadata": {
    "collapsed": true
   },
   "outputs": [],
   "source": [
    "R_    = np.array([[1,3,3,4,5],\n",
    "                  [1,2,4,3,5],\n",
    "                  [5,3,2,5,1]])\n",
    "mask_ = np.array([[1,1,1,1,1],\n",
    "                  [1,0,0,0,0],\n",
    "                  [1,1,1,1,1]])\n",
    "\n",
    "n_users, n_items = R_.shape\n",
    "latent_dim = 2\n",
    "latent_dim_p = 2 # the D' in the paper\n",
    "\n",
    "U = tf.Variable(tf.random_uniform([n_users, latent_dim], -1.0, 1.0), name='user_matrix')\n",
    "V = tf.Variable(tf.random_uniform([n_items, latent_dim], -1.0, 1.0), name='item_matrix')\n",
    "\n",
    "# (*1) TODO I'm implicitly keeping K=1 for now, just like the paper.\n",
    "# So each latent matrix is actually just a latent vector---the rows of the following matrices.\n",
    "Up = tf.Variable(tf.random_uniform([n_users, latent_dim_p], -1.0, 1.0), name='user_matrix_p')\n",
    "Vp = tf.Variable(tf.random_uniform([n_items, latent_dim_p], -1.0, 1.0), name='item_matrix_p')\n",
    "\n",
    "R = tf.placeholder(tf.float32, name=\"R\")\n",
    "# This is hacky: I pass in a list of indices of elements to want to train on, call this a \"batch\".\n",
    "idx_i = tf.placeholder(tf.int32, name=\"idx_i\")\n",
    "idx_j = tf.placeholder(tf.int32, name=\"idx_j\")\n",
    "batch_size = tf.placeholder(tf.int32, name=\"batch_size\") # TODO infer from idx_i\n",
    "\n",
    "reg_rate = 1.\n",
    "learning_rate = 0.01\n",
    "hidden_units = 5\n",
    "\n",
    "# U,V,U',V'\n",
    "U_vector = tf.gather(U, idx_i)\n",
    "V_vector = tf.gather(V, idx_j)\n",
    "U_mat = tf.gather(Up, idx_i) # TODO gathering vectors, not actual matrices - see (*1)\n",
    "V_mat = tf.gather(Vp, idx_j)\n",
    "#UV_interaction = tf.reduce_sum(tf.multiply(U_mat, V_mat), 0) # Use this if we have matrices - see (*1)\n",
    "UV_interaction = tf.multiply(U_mat, V_mat)\n",
    "all_latent_vars = tf.reshape(tf.concat([U_vector, V_vector, UV_interaction], axis=1),\n",
    "                             [batch_size, latent_dim*2+latent_dim_p])\n",
    "\n",
    "# NN\n",
    "layer_1 = tf.layers.dense(inputs=all_latent_vars, units=hidden_units, activation=tf.nn.relu)\n",
    "layer_out = tf.layers.dense(inputs=layer_1, units=1, activation=None) # None for Linear activation\n",
    "\n",
    "# Loss\n",
    "target = tf.reshape(tf.gather_nd(R, tf.transpose(tf.stack([idx_i, idx_j]))), [batch_size,1])\n",
    "error = tf.square(layer_out - target)\n",
    "reg = tf.norm(U) + tf.norm(V) + tf.norm(Up) + tf.norm(Vp)\n",
    "loss = tf.reduce_sum(error) + reg_rate * reg\n",
    "\n",
    "optimizer = tf.train.GradientDescentOptimizer(learning_rate)\n",
    "train = optimizer.minimize(loss)\n",
    "\n",
    "initialize = tf.global_variables_initializer()"
   ]
  },
  {
   "cell_type": "code",
   "execution_count": null,
   "metadata": {
    "collapsed": true,
    "scrolled": true
   },
   "outputs": [],
   "source": [
    "# # Check your work.\n",
    "# with tf.Session() as sess:\n",
    "#     sess.run(initialize)\n",
    "#     feed_dict = {\n",
    "#         R: R_,\n",
    "#         idx_i: [0,0,1,1,1],\n",
    "#         idx_j: [0,0,0,1,2],\n",
    "#         batch_size: 5\n",
    "#     }\n",
    "#     print(sess.run(error, feed_dict))"
   ]
  },
  {
   "cell_type": "markdown",
   "metadata": {},
   "source": [
    "# Training"
   ]
  },
  {
   "cell_type": "code",
   "execution_count": null,
   "metadata": {
    "scrolled": false
   },
   "outputs": [],
   "source": [
    "# Train\n",
    "seen_indices = np.array(np.where(mask_))\n",
    "losses = []\n",
    "BATCH_SIZE = 5\n",
    "with tf.Session() as sess:\n",
    "    sess.run(initialize)\n",
    "    \n",
    "    for i in range(500):\n",
    "        # Train on a batch of BATCH_SIZE random elements each iteration.\n",
    "        rand_idx = np.random.choice(seen_indices.shape[1], BATCH_SIZE, replace=False)\n",
    "        feed_dict = {\n",
    "            R: R_,\n",
    "            idx_i: seen_indices[0, rand_idx],\n",
    "            idx_j: seen_indices[1, rand_idx],\n",
    "            batch_size: BATCH_SIZE\n",
    "        }\n",
    "        sess.run(train, feed_dict)\n",
    "        losses.append(sess.run(loss, feed_dict))\n",
    "        if i % 50 == 0: print(\"iteration {} - loss {}\".format(i, losses[-1]))\n",
    "    \n",
    "    # Look at final reconstruction.\n",
    "    feed_dict = {\n",
    "        R: R_,\n",
    "        idx_i: np.where(np.ones(R_.shape))[0],\n",
    "        idx_j: np.where(np.ones(R_.shape))[1],\n",
    "        batch_size: R_.shape[0] * R_.shape[1]\n",
    "    }\n",
    "    reconstruction = sess.run(layer_out, feed_dict)\n",
    "    print(\"Original:\")\n",
    "    print(R_)\n",
    "    print(\"Reconstruction:\")\n",
    "    print(reconstruction.reshape(R_.shape))\n",
    "    \n",
    "plt.plot(losses)\n",
    "plt.title(\"Loss\")"
   ]
  },
  {
   "cell_type": "markdown",
   "metadata": {},
   "source": [
    "# TODO\n",
    "\n",
    "- Uncertainty estimates?"
   ]
  },
  {
   "cell_type": "code",
   "execution_count": null,
   "metadata": {
    "collapsed": true
   },
   "outputs": [],
   "source": []
  }
 ],
 "metadata": {
  "kernelspec": {
   "display_name": "Python 3",
   "language": "python",
   "name": "python3"
  },
  "language_info": {
   "codemirror_mode": {
    "name": "ipython",
    "version": 3
   },
   "file_extension": ".py",
   "mimetype": "text/x-python",
   "name": "python",
   "nbconvert_exporter": "python",
   "pygments_lexer": "ipython3",
   "version": "3.6.3"
  }
 },
 "nbformat": 4,
 "nbformat_minor": 2
}
