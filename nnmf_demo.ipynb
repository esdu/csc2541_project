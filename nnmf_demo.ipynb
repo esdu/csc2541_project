{
 "cells": [
  {
   "cell_type": "code",
   "execution_count": 1,
   "metadata": {
    "collapsed": true
   },
   "outputs": [],
   "source": [
    "%matplotlib inline\n",
    "from matplotlib import pyplot as plt\n",
    "import matplotlib; matplotlib.rcParams['figure.figsize'] = (15,3)"
   ]
  },
  {
   "cell_type": "code",
   "execution_count": 2,
   "metadata": {
    "collapsed": true
   },
   "outputs": [],
   "source": [
    "import numpy as np"
   ]
  },
  {
   "cell_type": "code",
   "execution_count": 3,
   "metadata": {
    "collapsed": true
   },
   "outputs": [],
   "source": [
    "# Reload all packages - make debugging easier\n",
    "%load_ext autoreload\n",
    "%autoreload 2"
   ]
  },
  {
   "cell_type": "markdown",
   "metadata": {},
   "source": [
    "---"
   ]
  },
  {
   "cell_type": "markdown",
   "metadata": {},
   "source": [
    "Use some matrix... just check if it trains and if so how quickly"
   ]
  },
  {
   "cell_type": "code",
   "execution_count": 4,
   "metadata": {
    "collapsed": true
   },
   "outputs": [],
   "source": [
    "from movieLensAnalyzer import MovieLensAnalyzer \n",
    "movieLensAnalyzer = MovieLensAnalyzer()\n",
    "R = movieLensAnalyzer.trainRatingMatrix"
   ]
  },
  {
   "cell_type": "markdown",
   "metadata": {},
   "source": [
    "---"
   ]
  },
  {
   "cell_type": "markdown",
   "metadata": {},
   "source": [
    "Our model.\n",
    "\n",
    "Note we haven't fully cross validated yet, so the result is not be optimal."
   ]
  },
  {
   "cell_type": "code",
   "execution_count": 5,
   "metadata": {
    "collapsed": true
   },
   "outputs": [],
   "source": [
    "from nnmf import NNMF\n",
    "model = NNMF(ratingMatrix=R)"
   ]
  },
  {
   "cell_type": "markdown",
   "metadata": {},
   "source": [
    "---"
   ]
  },
  {
   "cell_type": "markdown",
   "metadata": {},
   "source": [
    "Evaluation code. We'll look at the output for an arbituary user.\n",
    "\n",
    "First, we look at the prior Rhats."
   ]
  },
  {
   "cell_type": "code",
   "execution_count": 6,
   "metadata": {},
   "outputs": [
    {
     "name": "stdout",
     "output_type": "stream",
     "text": [
      "User 11\n"
     ]
    },
    {
     "data": {
      "image/png": "[encoded data removed]",
      "text/plain": [
       "<matplotlib.figure.Figure at 0x12003dfd0>"
      ]
     },
     "metadata": {},
     "output_type": "display_data"
    },
    {
     "name": "stdout",
     "output_type": "stream",
     "text": [
      "Rhats : [ 1.  2.  3.  2.  1.  1.  3.  3.  1.  1.]\n",
      "Actual: [ 5.  5.  5.  4.  5.  4.  4.  5.  4.  5.]\n",
      "MSE per user [7.9098507896286927]\n",
      "CPU times: user 2.64 s, sys: 214 ms, total: 2.86 s\n",
      "Wall time: 4.13 s\n"
     ]
    }
   ],
   "source": [
    "def plot_R(rhats, r=None, title=''):\n",
    "    _, n_items = rhats.shape\n",
    "    f, axes = plt.subplots(1, n_items, sharex=True, sharey=True)\n",
    "    i = 0\n",
    "    for j in range(n_items):\n",
    "        if r is not None:\n",
    "            axes[j].axvline(x=r[j], color='r', alpha=0.4)\n",
    "        axes[j].hist(rhats[:,j], histtype='stepfilled', normed=True)\n",
    "    plt.xlim([0,6])\n",
    "    f.suptitle(title)\n",
    "    plt.show()\n",
    "\n",
    "TEST_USERS = [11]\n",
    "    \n",
    "def score():\n",
    "    # For now, just some mse of random users.\n",
    "    mses = []\n",
    "    for user_index in TEST_USERS:\n",
    "        print('User', user_index)\n",
    "        idx = np.where(R[user_index] > 0)\n",
    "        samples = np.squeeze(model.sample_for_user(user_index, 50)[:,idx])\n",
    "        rhats = np.mean(samples, axis=0)\n",
    "        r = R[user_index][idx]\n",
    "        plot_R(samples[:,:10], r[:10])\n",
    "        print(\"Rhats :\", np.round(rhats[:10]))\n",
    "        print(\"Actual:\", r[:10])\n",
    "        mses.append(np.mean(np.square(rhats - r)))\n",
    "    print(\"MSE per user\", mses)\n",
    "\n",
    "%time score()"
   ]
  },
  {
   "cell_type": "markdown",
   "metadata": {},
   "source": [
    "Train, and look at posterior Rhats, as well as the MSE for each of our chosen users."
   ]
  },
  {
   "cell_type": "code",
   "execution_count": 7,
   "metadata": {
    "collapsed": true
   },
   "outputs": [],
   "source": [
    "mask = R>0"
   ]
  },
  {
   "cell_type": "code",
   "execution_count": 8,
   "metadata": {},
   "outputs": [
    {
     "name": "stdout",
     "output_type": "stream",
     "text": [
      "CPU times: user 2min 12s, sys: 15.8 s, total: 2min 28s\n",
      "Wall time: 1min 1s\n",
      "User 11\n"
     ]
    },
    {
     "data": {
      "image/png": "[encoded data removed]",
      "text/plain": [
       "<matplotlib.figure.Figure at 0x11ffb9f28>"
      ]
     },
     "metadata": {},
     "output_type": "display_data"
    },
    {
     "data": {
      "image/png": "[encoded data removed]",
      "text/plain": [
       "<matplotlib.figure.Figure at 0x11ffa8e10>"
      ]
     },
     "metadata": {},
     "output_type": "display_data"
    },
    {
     "name": "stdout",
     "output_type": "stream",
     "text": [
      "Rhats : [ 4.  5.  5.  5.  5.  5.  5.  5.  4.  5.]\n",
      "Actual: [ 5.  5.  5.  4.  5.  4.  4.  5.  4.  5.]\n",
      "MSE per user [0.55349739801160436]\n"
     ]
    }
   ],
   "source": [
    "%time losses = model.train(legalTrainIndices=mask)\n",
    "plt.plot(losses)\n",
    "score()"
   ]
  },
  {
   "cell_type": "markdown",
   "metadata": {},
   "source": [
    "---"
   ]
  },
  {
   "cell_type": "markdown",
   "metadata": {},
   "source": [
    "Test save, load, reset."
   ]
  },
  {
   "cell_type": "code",
   "execution_count": 9,
   "metadata": {},
   "outputs": [
    {
     "data": {
      "text/plain": [
       "'blah.pkl'"
      ]
     },
     "execution_count": 9,
     "metadata": {},
     "output_type": "execute_result"
    }
   ],
   "source": [
    "model.save('blah.pkl') # We save as pickles. It would be better (for style) if you use the .pkl extension."
   ]
  },
  {
   "cell_type": "code",
   "execution_count": 10,
   "metadata": {
    "collapsed": true
   },
   "outputs": [],
   "source": [
    "model.reset()"
   ]
  },
  {
   "cell_type": "code",
   "execution_count": 11,
   "metadata": {
    "scrolled": false
   },
   "outputs": [
    {
     "name": "stdout",
     "output_type": "stream",
     "text": [
      "User 11\n"
     ]
    },
    {
     "data": {
      "image/png": "[encoded data removed]",
      "text/plain": [
       "<matplotlib.figure.Figure at 0x121d1e9b0>"
      ]
     },
     "metadata": {},
     "output_type": "display_data"
    },
    {
     "name": "stdout",
     "output_type": "stream",
     "text": [
      "Rhats : [ 6.  5.  4.  6.  6.  4.  5.  4.  5.  5.]\n",
      "Actual: [ 5.  5.  5.  4.  5.  4.  4.  5.  4.  5.]\n",
      "MSE per user [1.4528135840461864]\n"
     ]
    }
   ],
   "source": [
    "score()"
   ]
  },
  {
   "cell_type": "code",
   "execution_count": 12,
   "metadata": {
    "collapsed": true
   },
   "outputs": [],
   "source": [
    "model.load('blah.pkl')"
   ]
  },
  {
   "cell_type": "code",
   "execution_count": 13,
   "metadata": {},
   "outputs": [
    {
     "name": "stdout",
     "output_type": "stream",
     "text": [
      "User 11\n"
     ]
    },
    {
     "data": {
      "image/png": "[encoded data removed]",
      "text/plain": [
       "<matplotlib.figure.Figure at 0x125adc710>"
      ]
     },
     "metadata": {},
     "output_type": "display_data"
    },
    {
     "name": "stdout",
     "output_type": "stream",
     "text": [
      "Rhats : [ 4.  5.  5.  5.  5.  4.  5.  4.  4.  5.]\n",
      "Actual: [ 5.  5.  5.  4.  5.  4.  4.  5.  4.  5.]\n",
      "MSE per user [0.55721644298916528]\n"
     ]
    }
   ],
   "source": [
    "score()"
   ]
  },
  {
   "cell_type": "code",
   "execution_count": null,
   "metadata": {
    "collapsed": true
   },
   "outputs": [],
   "source": []
  }
 ],
 "metadata": {
  "kernelspec": {
   "display_name": "Python 3",
   "language": "python",
   "name": "python3"
  },
  "language_info": {
   "codemirror_mode": {
    "name": "ipython",
    "version": 3
   },
   "file_extension": ".py",
   "mimetype": "text/x-python",
   "name": "python",
   "nbconvert_exporter": "python",
   "pygments_lexer": "ipython3",
   "version": "3.6.3"
  }
 },
 "nbformat": 4,
 "nbformat_minor": 2
}
