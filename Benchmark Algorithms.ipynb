{
 "cells": [
  {
   "cell_type": "code",
   "execution_count": 13,
   "metadata": {
    "collapsed": true
   },
   "outputs": [],
   "source": [
    "# Benchmark\n",
    "# -  Collaborative Filtering User-based\n",
    "# -  Collaborative Filtering Item-based\n"
   ]
  },
  {
   "cell_type": "code",
   "execution_count": 38,
   "metadata": {},
   "outputs": [
    {
     "name": "stdout",
     "output_type": "stream",
     "text": [
      "(943, 1682)\n"
     ]
    }
   ],
   "source": [
    "from movieLensAnalyzer import MovieLensAnalyzer \n",
    "import random \n",
    "movieLensAnalyzer = MovieLensAnalyzer()\n",
    "# Returns as a numpy array\n",
    "userMovieRatingMatrix = movieLensAnalyzer.getUserMovieRatingMatrix()\n",
    "print(userMovieRatingMatrix.shape)\n",
    "\n",
    "# Hard code own percentagezero version to set random ones to 0 from mask\n",
    "# TODO: Use more efficient numpy statements instead of for loops\n",
    "percentageZero = 0.3 # Set 30 percent of data to be 0\n",
    "mask_ = np.ones(userMovieRatingMatrix.shape)\n",
    "# mask_ = np.ones((3,3))\n",
    "for i in range(mask_.shape[0]):\n",
    "    for j in range(mask_.shape[1]):\n",
    "        if (random.random() < percentageZero):\n",
    "            mask_[i][j] = 0\n",
    "\n",
    "\n"
   ]
  },
  {
   "cell_type": "code",
   "execution_count": 39,
   "metadata": {},
   "outputs": [
    {
     "name": "stdout",
     "output_type": "stream",
     "text": [
      "(943, 1682)\n",
      "(943, 1682)\n",
      "0.819846664925\n",
      "0.750286195025\n"
     ]
    }
   ],
   "source": [
    "#Collaborative Filtering\n",
    "import numpy as np\n",
    "rtest = userMovieRatingMatrix \n",
    "r = userMovieRatingMatrix  * mask_\n",
    "r = rtest\n",
    "\n",
    "# Item based similarity\n",
    "itemSimilarity = np.dot(np.transpose(r), r)\n",
    "# Normalize\n",
    "row_sums = itemSimilarity.sum(axis=1)\n",
    "row_sums[np.where(row_sums== 0)] = 1\n",
    "itemSimilarity = itemSimilarity / row_sums[:, np.newaxis]\n",
    "reconstructionItemSimilarity = np.dot(r, itemSimilarity)\n",
    "print(reconstructionItemSimilarity.shape)\n",
    "\n",
    "# User based similarity\n",
    "userSimilarity = np.dot(r, np.transpose(r))\n",
    "# Normalize\n",
    "row_sums = userSimilarity.sum(axis=1)\n",
    "row_sums[np.where(row_sums== 0)] = 1\n",
    "userSimilarity =  userSimilarity/ row_sums[:, np.newaxis]\n",
    "reconstructionUserSimilarity = np.dot(userSimilarity, r)\n",
    "print(reconstructionUserSimilarity.shape)\n",
    "\n",
    "rmseItemSimilarity =  np.sqrt(np.mean((reconstructionItemSimilarity- rtest)**2))\n",
    "rmseUserSimilarity =  np.sqrt(np.mean((reconstructionUserSimilarity- rtest)**2))\n",
    "\n",
    "print(rmseUserSimilarity)\n",
    "print(rmseItemSimilarity)\n"
   ]
  },
  {
   "cell_type": "code",
   "execution_count": null,
   "metadata": {
    "collapsed": true
   },
   "outputs": [],
   "source": [
    "\n",
    "\n",
    "\n",
    "\n"
   ]
  },
  {
   "cell_type": "code",
   "execution_count": null,
   "metadata": {
    "collapsed": true
   },
   "outputs": [],
   "source": [
    "\n",
    "\n",
    "\n",
    "\n",
    "\n",
    "\n"
   ]
  }
 ],
 "metadata": {
  "kernelspec": {
   "display_name": "Python 3",
   "language": "python",
   "name": "python3"
  },
  "language_info": {
   "codemirror_mode": {
    "name": "ipython",
    "version": 3
   },
   "file_extension": ".py",
   "mimetype": "text/x-python",
   "name": "python",
   "nbconvert_exporter": "python",
   "pygments_lexer": "ipython3",
   "version": "3.5.2"
  }
 },
 "nbformat": 4,
 "nbformat_minor": 2
}
